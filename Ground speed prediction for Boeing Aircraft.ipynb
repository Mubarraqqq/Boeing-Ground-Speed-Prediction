{
 "cells": [
  {
   "cell_type": "markdown",
   "id": "700ca5c8-be22-4675-90fd-98a31b2d4393",
   "metadata": {},
   "source": [
    "# Importing libraries"
   ]
  },
  {
   "cell_type": "code",
   "execution_count": 1,
   "id": "59b4ab44",
   "metadata": {},
   "outputs": [],
   "source": [
    "import numpy as np\n",
    "import pandas as pd\n",
    "import missingno as ms\n",
    "import matplotlib.pyplot as plt\n",
    "import seaborn as sns\n",
    "from sklearn.model_selection import train_test_split\n",
    "from sklearn.preprocessing import StandardScaler\n",
    "from sklearn.linear_model import LinearRegression \n",
    "from sklearn.metrics import mean_squared_error, r2_score, mean_absolute_error \n",
    "from sklearn.linear_model import Ridge, Lasso\n",
    "from sklearn.linear_model import ElasticNet\n",
    "from sklearn.metrics import mean_absolute_error\n",
    "import joblib"
   ]
  },
  {
   "cell_type": "code",
   "execution_count": 2,
   "id": "f21c8e7f",
   "metadata": {},
   "outputs": [],
   "source": [
    "pd.set_option('display.max_columns', None) \n",
    "Departures = pd.read_csv('Total Departures.csv')\n",
    "Arrival = pd.read_csv('Total Arrival.csv')\n",
    "# Departures. 1st dataset\n",
    "# Arrival.  2nd dataset"
   ]
  },
  {
   "cell_type": "code",
   "execution_count": 3,
   "id": "f71fedc4",
   "metadata": {},
   "outputs": [
    {
     "data": {
      "text/html": [
       "<div>\n",
       "<style scoped>\n",
       "    .dataframe tbody tr th:only-of-type {\n",
       "        vertical-align: middle;\n",
       "    }\n",
       "\n",
       "    .dataframe tbody tr th {\n",
       "        vertical-align: top;\n",
       "    }\n",
       "\n",
       "    .dataframe thead th {\n",
       "        text-align: right;\n",
       "    }\n",
       "</style>\n",
       "<table border=\"1\" class=\"dataframe\">\n",
       "  <thead>\n",
       "    <tr style=\"text-align: right;\">\n",
       "      <th></th>\n",
       "      <th>callsign</th>\n",
       "      <th>cid</th>\n",
       "      <th>name</th>\n",
       "      <th>latitude</th>\n",
       "      <th>longitude</th>\n",
       "      <th>altitude</th>\n",
       "      <th>ground_speed</th>\n",
       "      <th>heading</th>\n",
       "      <th>transponder</th>\n",
       "      <th>aircraft</th>\n",
       "      <th>departure</th>\n",
       "      <th>nm_from_dep</th>\n",
       "      <th>arrival</th>\n",
       "      <th>nm_from_arr</th>\n",
       "      <th>alternate</th>\n",
       "      <th>route</th>\n",
       "      <th>flight_rules</th>\n",
       "      <th>filed_altitude</th>\n",
       "      <th>filed_tas</th>\n",
       "      <th>filed_time_enroute</th>\n",
       "      <th>filed_fuel_onboard</th>\n",
       "      <th>remarks</th>\n",
       "      <th>stage_of_flight</th>\n",
       "      <th>time_logon</th>\n",
       "    </tr>\n",
       "  </thead>\n",
       "  <tbody>\n",
       "    <tr>\n",
       "      <th>0</th>\n",
       "      <td>WWA3592</td>\n",
       "      <td>813973</td>\n",
       "      <td>Chris Cramblet KDFW</td>\n",
       "      <td>37.89221</td>\n",
       "      <td>-79.11392</td>\n",
       "      <td>33988</td>\n",
       "      <td>413</td>\n",
       "      <td>233</td>\n",
       "      <td>1200</td>\n",
       "      <td>B739/W</td>\n",
       "      <td>KALB</td>\n",
       "      <td>379.27</td>\n",
       "      <td>KATL</td>\n",
       "      <td>363.40</td>\n",
       "      <td>NaN</td>\n",
       "      <td>ALB7.PWL SAX J77 EMI J48 SPA2 J53 SPA.WHINZ4</td>\n",
       "      <td>IFR</td>\n",
       "      <td>34000</td>\n",
       "      <td>460</td>\n",
       "      <td>1:57</td>\n",
       "      <td>5:30</td>\n",
       "      <td>Charts as Filed - ActiveSky - Fly www.flywestw...</td>\n",
       "      <td>Cruise</td>\n",
       "      <td>2020-03-02 19:08:42</td>\n",
       "    </tr>\n",
       "    <tr>\n",
       "      <th>1</th>\n",
       "      <td>DAL2264</td>\n",
       "      <td>1111236</td>\n",
       "      <td>Lonz EGLL</td>\n",
       "      <td>32.50932</td>\n",
       "      <td>-83.97112</td>\n",
       "      <td>28466</td>\n",
       "      <td>492</td>\n",
       "      <td>171</td>\n",
       "      <td>2000</td>\n",
       "      <td>MD88/L</td>\n",
       "      <td>KATL</td>\n",
       "      <td>71.44</td>\n",
       "      <td>KMCO</td>\n",
       "      <td>280.84</td>\n",
       "      <td>KMIA</td>\n",
       "      <td>SMLTZ2 WALET DCT YUESS DCT OTK PIGLT6</td>\n",
       "      <td>IFR</td>\n",
       "      <td>33000</td>\n",
       "      <td>448</td>\n",
       "      <td>1:19</td>\n",
       "      <td>2:35</td>\n",
       "      <td>OPR/DAL /v/</td>\n",
       "      <td>Climb</td>\n",
       "      <td>2020-03-02 19:08:42</td>\n",
       "    </tr>\n",
       "    <tr>\n",
       "      <th>2</th>\n",
       "      <td>DAL446</td>\n",
       "      <td>1322705</td>\n",
       "      <td>Jack Adderley MYNN</td>\n",
       "      <td>43.56900</td>\n",
       "      <td>-79.45749</td>\n",
       "      <td>8976</td>\n",
       "      <td>265</td>\n",
       "      <td>9</td>\n",
       "      <td>1200</td>\n",
       "      <td>B737</td>\n",
       "      <td>KATL</td>\n",
       "      <td>639.62</td>\n",
       "      <td>CYYZ</td>\n",
       "      <td>9.93</td>\n",
       "      <td>CYTR</td>\n",
       "      <td>SMKEY2 BOBBD Q71 GEFFS EWC OXMAN LINNG2</td>\n",
       "      <td>IFR</td>\n",
       "      <td>FL350</td>\n",
       "      <td>450</td>\n",
       "      <td>1:43</td>\n",
       "      <td>3:22</td>\n",
       "      <td>/L NAV/GPSRNAV</td>\n",
       "      <td>Descent</td>\n",
       "      <td>2020-03-02 19:08:42</td>\n",
       "    </tr>\n",
       "    <tr>\n",
       "      <th>3</th>\n",
       "      <td>AAL2464</td>\n",
       "      <td>1083694</td>\n",
       "      <td>Richard Shaw TTPP</td>\n",
       "      <td>30.28852</td>\n",
       "      <td>-96.07990</td>\n",
       "      <td>27516</td>\n",
       "      <td>530</td>\n",
       "      <td>103</td>\n",
       "      <td>5322</td>\n",
       "      <td>A319</td>\n",
       "      <td>KAUS</td>\n",
       "      <td>82.19</td>\n",
       "      <td>KMIA</td>\n",
       "      <td>877.71</td>\n",
       "      <td>KMCO</td>\n",
       "      <td>ILEXY2 ZENZI IAH J86 LEV Q102 BLVNS Y290 BAGGS...</td>\n",
       "      <td>IFR</td>\n",
       "      <td>FL370</td>\n",
       "      <td>438</td>\n",
       "      <td>2:3</td>\n",
       "      <td>3:44</td>\n",
       "      <td>/L NAV/GPSRNAV</td>\n",
       "      <td>Climb</td>\n",
       "      <td>2020-03-02 19:08:42</td>\n",
       "    </tr>\n",
       "    <tr>\n",
       "      <th>4</th>\n",
       "      <td>AAY339</td>\n",
       "      <td>816206</td>\n",
       "      <td>816206</td>\n",
       "      <td>37.54890</td>\n",
       "      <td>-119.60616</td>\n",
       "      <td>36165</td>\n",
       "      <td>500</td>\n",
       "      <td>172</td>\n",
       "      <td>2211</td>\n",
       "      <td>A319/L</td>\n",
       "      <td>KBOI</td>\n",
       "      <td>392.44</td>\n",
       "      <td>KLAX</td>\n",
       "      <td>224.12</td>\n",
       "      <td>NaN</td>\n",
       "      <td>HYVAL REO J7 FMG J7 REBRG IRNMN2</td>\n",
       "      <td>IFR</td>\n",
       "      <td>36000</td>\n",
       "      <td>450</td>\n",
       "      <td>0:0</td>\n",
       "      <td>0:0</td>\n",
       "      <td>/v/ SEL/MBSM</td>\n",
       "      <td>Cruise</td>\n",
       "      <td>2020-03-02 19:08:42</td>\n",
       "    </tr>\n",
       "    <tr>\n",
       "      <th>5</th>\n",
       "      <td>DAL202</td>\n",
       "      <td>1358097</td>\n",
       "      <td>Christopher Windust</td>\n",
       "      <td>41.18341</td>\n",
       "      <td>-77.38996</td>\n",
       "      <td>35997</td>\n",
       "      <td>412</td>\n",
       "      <td>240</td>\n",
       "      <td>1200</td>\n",
       "      <td>B738/L</td>\n",
       "      <td>KBOS</td>\n",
       "      <td>294.30</td>\n",
       "      <td>KCVG</td>\n",
       "      <td>357.54</td>\n",
       "      <td>NaN</td>\n",
       "      <td>REVSS4 REVSS CTR HNK J49 MAGIO J49 PSB MAULL K...</td>\n",
       "      <td>IFR</td>\n",
       "      <td>36000</td>\n",
       "      <td>450</td>\n",
       "      <td>2:40</td>\n",
       "      <td>3:0</td>\n",
       "      <td>New to Vatsim / Airac 2003 /v/</td>\n",
       "      <td>Climb</td>\n",
       "      <td>2020-03-02 19:08:42</td>\n",
       "    </tr>\n",
       "    <tr>\n",
       "      <th>6</th>\n",
       "      <td>TUI001</td>\n",
       "      <td>1474244</td>\n",
       "      <td>Mischa Lueckert  EDDV</td>\n",
       "      <td>53.09648</td>\n",
       "      <td>-36.42069</td>\n",
       "      <td>32598</td>\n",
       "      <td>499</td>\n",
       "      <td>90</td>\n",
       "      <td>2000</td>\n",
       "      <td>H/B763/C</td>\n",
       "      <td>KBOS</td>\n",
       "      <td>1517.92</td>\n",
       "      <td>EGLL</td>\n",
       "      <td>1309.64</td>\n",
       "      <td>EGBB</td>\n",
       "      <td>LBSTA6 LBSTA DCT EBONY N439A TUDEP NATT GISTI ...</td>\n",
       "      <td>IFR</td>\n",
       "      <td>35000</td>\n",
       "      <td>450</td>\n",
       "      <td>5:34</td>\n",
       "      <td>7:0</td>\n",
       "      <td>/v/</td>\n",
       "      <td>Cruise</td>\n",
       "      <td>2020-03-02 19:08:42</td>\n",
       "    </tr>\n",
       "    <tr>\n",
       "      <th>7</th>\n",
       "      <td>DAL979</td>\n",
       "      <td>1317425</td>\n",
       "      <td>Thiago Fontes SBGR</td>\n",
       "      <td>37.46615</td>\n",
       "      <td>-79.57410</td>\n",
       "      <td>36030</td>\n",
       "      <td>398</td>\n",
       "      <td>237</td>\n",
       "      <td>2000</td>\n",
       "      <td>B737/L</td>\n",
       "      <td>KBWI</td>\n",
       "      <td>170.96</td>\n",
       "      <td>KATL</td>\n",
       "      <td>329.99</td>\n",
       "      <td>KBNA</td>\n",
       "      <td>TERPZ6 FLASK OZZZI1</td>\n",
       "      <td>IFR</td>\n",
       "      <td>36000</td>\n",
       "      <td>448</td>\n",
       "      <td>1:34</td>\n",
       "      <td>3:29</td>\n",
       "      <td>PBN/A1B1C1D1S1S2 DOF/200302 REG/N714SB EET/KZT...</td>\n",
       "      <td>Cruise</td>\n",
       "      <td>2020-03-02 19:08:42</td>\n",
       "    </tr>\n",
       "    <tr>\n",
       "      <th>8</th>\n",
       "      <td>SWA2364</td>\n",
       "      <td>1361598</td>\n",
       "      <td>Kostas Alamanas KVRB</td>\n",
       "      <td>39.17649</td>\n",
       "      <td>-76.66458</td>\n",
       "      <td>149</td>\n",
       "      <td>14</td>\n",
       "      <td>213</td>\n",
       "      <td>2000</td>\n",
       "      <td>B738</td>\n",
       "      <td>KBWI</td>\n",
       "      <td>0.18</td>\n",
       "      <td>KJAX</td>\n",
       "      <td>576.49</td>\n",
       "      <td>KMCO</td>\n",
       "      <td>CONLE3 COLIN J61 HUBBS J193 HCM ISO J121 CHS E...</td>\n",
       "      <td>IFR</td>\n",
       "      <td>28000</td>\n",
       "      <td>0</td>\n",
       "      <td>2:12</td>\n",
       "      <td>4:30</td>\n",
       "      <td>/v/</td>\n",
       "      <td>Taxi for Departure</td>\n",
       "      <td>2020-03-02 19:08:42</td>\n",
       "    </tr>\n",
       "    <tr>\n",
       "      <th>9</th>\n",
       "      <td>DAL979</td>\n",
       "      <td>1317425</td>\n",
       "      <td>Thiago Fontes SBGR</td>\n",
       "      <td>37.46615</td>\n",
       "      <td>-79.57410</td>\n",
       "      <td>36030</td>\n",
       "      <td>398</td>\n",
       "      <td>237</td>\n",
       "      <td>2000</td>\n",
       "      <td>B737/L</td>\n",
       "      <td>KBWI</td>\n",
       "      <td>170.96</td>\n",
       "      <td>KATL</td>\n",
       "      <td>329.99</td>\n",
       "      <td>KBNA</td>\n",
       "      <td>TERPZ6 FLASK OZZZI1</td>\n",
       "      <td>IFR</td>\n",
       "      <td>36000</td>\n",
       "      <td>448</td>\n",
       "      <td>1:34</td>\n",
       "      <td>3:29</td>\n",
       "      <td>PBN/A1B1C1D1S1S2 DOF/200302 REG/N714SB EET/KZT...</td>\n",
       "      <td>Cruise</td>\n",
       "      <td>2020-03-02 19:08:42</td>\n",
       "    </tr>\n",
       "  </tbody>\n",
       "</table>\n",
       "</div>"
      ],
      "text/plain": [
       "  callsign      cid                   name  latitude  longitude  altitude  \\\n",
       "0  WWA3592   813973    Chris Cramblet KDFW  37.89221  -79.11392     33988   \n",
       "1  DAL2264  1111236              Lonz EGLL  32.50932  -83.97112     28466   \n",
       "2   DAL446  1322705     Jack Adderley MYNN  43.56900  -79.45749      8976   \n",
       "3  AAL2464  1083694      Richard Shaw TTPP  30.28852  -96.07990     27516   \n",
       "4   AAY339   816206                 816206  37.54890 -119.60616     36165   \n",
       "5   DAL202  1358097    Christopher Windust  41.18341  -77.38996     35997   \n",
       "6   TUI001  1474244  Mischa Lueckert  EDDV  53.09648  -36.42069     32598   \n",
       "7   DAL979  1317425     Thiago Fontes SBGR  37.46615  -79.57410     36030   \n",
       "8  SWA2364  1361598   Kostas Alamanas KVRB  39.17649  -76.66458       149   \n",
       "9   DAL979  1317425     Thiago Fontes SBGR  37.46615  -79.57410     36030   \n",
       "\n",
       "   ground_speed  heading  transponder  aircraft departure  nm_from_dep  \\\n",
       "0           413      233         1200    B739/W      KALB       379.27   \n",
       "1           492      171         2000    MD88/L      KATL        71.44   \n",
       "2           265        9         1200      B737      KATL       639.62   \n",
       "3           530      103         5322      A319      KAUS        82.19   \n",
       "4           500      172         2211    A319/L      KBOI       392.44   \n",
       "5           412      240         1200    B738/L      KBOS       294.30   \n",
       "6           499       90         2000  H/B763/C      KBOS      1517.92   \n",
       "7           398      237         2000    B737/L      KBWI       170.96   \n",
       "8            14      213         2000      B738      KBWI         0.18   \n",
       "9           398      237         2000    B737/L      KBWI       170.96   \n",
       "\n",
       "  arrival  nm_from_arr alternate  \\\n",
       "0    KATL       363.40       NaN   \n",
       "1    KMCO       280.84      KMIA   \n",
       "2    CYYZ         9.93      CYTR   \n",
       "3    KMIA       877.71      KMCO   \n",
       "4    KLAX       224.12       NaN   \n",
       "5    KCVG       357.54       NaN   \n",
       "6    EGLL      1309.64      EGBB   \n",
       "7    KATL       329.99      KBNA   \n",
       "8    KJAX       576.49      KMCO   \n",
       "9    KATL       329.99      KBNA   \n",
       "\n",
       "                                               route flight_rules  \\\n",
       "0       ALB7.PWL SAX J77 EMI J48 SPA2 J53 SPA.WHINZ4          IFR   \n",
       "1              SMLTZ2 WALET DCT YUESS DCT OTK PIGLT6          IFR   \n",
       "2            SMKEY2 BOBBD Q71 GEFFS EWC OXMAN LINNG2          IFR   \n",
       "3  ILEXY2 ZENZI IAH J86 LEV Q102 BLVNS Y290 BAGGS...          IFR   \n",
       "4                   HYVAL REO J7 FMG J7 REBRG IRNMN2          IFR   \n",
       "5  REVSS4 REVSS CTR HNK J49 MAGIO J49 PSB MAULL K...          IFR   \n",
       "6  LBSTA6 LBSTA DCT EBONY N439A TUDEP NATT GISTI ...          IFR   \n",
       "7                                TERPZ6 FLASK OZZZI1          IFR   \n",
       "8  CONLE3 COLIN J61 HUBBS J193 HCM ISO J121 CHS E...          IFR   \n",
       "9                                TERPZ6 FLASK OZZZI1          IFR   \n",
       "\n",
       "  filed_altitude  filed_tas filed_time_enroute filed_fuel_onboard  \\\n",
       "0          34000        460               1:57               5:30   \n",
       "1          33000        448               1:19               2:35   \n",
       "2          FL350        450               1:43               3:22   \n",
       "3          FL370        438                2:3               3:44   \n",
       "4          36000        450                0:0                0:0   \n",
       "5          36000        450               2:40                3:0   \n",
       "6          35000        450               5:34                7:0   \n",
       "7          36000        448               1:34               3:29   \n",
       "8          28000          0               2:12               4:30   \n",
       "9          36000        448               1:34               3:29   \n",
       "\n",
       "                                             remarks     stage_of_flight  \\\n",
       "0  Charts as Filed - ActiveSky - Fly www.flywestw...              Cruise   \n",
       "1                                        OPR/DAL /v/               Climb   \n",
       "2                                     /L NAV/GPSRNAV             Descent   \n",
       "3                                     /L NAV/GPSRNAV               Climb   \n",
       "4                                       /v/ SEL/MBSM              Cruise   \n",
       "5                     New to Vatsim / Airac 2003 /v/               Climb   \n",
       "6                                                /v/              Cruise   \n",
       "7  PBN/A1B1C1D1S1S2 DOF/200302 REG/N714SB EET/KZT...              Cruise   \n",
       "8                                                /v/  Taxi for Departure   \n",
       "9  PBN/A1B1C1D1S1S2 DOF/200302 REG/N714SB EET/KZT...              Cruise   \n",
       "\n",
       "            time_logon  \n",
       "0  2020-03-02 19:08:42  \n",
       "1  2020-03-02 19:08:42  \n",
       "2  2020-03-02 19:08:42  \n",
       "3  2020-03-02 19:08:42  \n",
       "4  2020-03-02 19:08:42  \n",
       "5  2020-03-02 19:08:42  \n",
       "6  2020-03-02 19:08:42  \n",
       "7  2020-03-02 19:08:42  \n",
       "8  2020-03-02 19:08:42  \n",
       "9  2020-03-02 19:08:42  "
      ]
     },
     "execution_count": 3,
     "metadata": {},
     "output_type": "execute_result"
    }
   ],
   "source": [
    "df = pd.concat([Departures, Arrival]) # joining both datasets together\n",
    "df.head(10)"
   ]
  },
  {
   "cell_type": "code",
   "execution_count": 4,
   "id": "844e9886",
   "metadata": {},
   "outputs": [],
   "source": [
    "# Getting an overview and summary of the dataset"
   ]
  },
  {
   "cell_type": "code",
   "execution_count": 5,
   "id": "321a266f",
   "metadata": {},
   "outputs": [
    {
     "data": {
      "text/plain": [
       "(203, 24)"
      ]
     },
     "execution_count": 5,
     "metadata": {},
     "output_type": "execute_result"
    }
   ],
   "source": [
    "df.shape"
   ]
  },
  {
   "cell_type": "code",
   "execution_count": 6,
   "id": "bba8662a",
   "metadata": {},
   "outputs": [
    {
     "name": "stdout",
     "output_type": "stream",
     "text": [
      "<class 'pandas.core.frame.DataFrame'>\n",
      "Index: 203 entries, 0 to 98\n",
      "Data columns (total 24 columns):\n",
      " #   Column              Non-Null Count  Dtype  \n",
      "---  ------              --------------  -----  \n",
      " 0   callsign            203 non-null    object \n",
      " 1   cid                 203 non-null    int64  \n",
      " 2   name                203 non-null    object \n",
      " 3   latitude            203 non-null    float64\n",
      " 4   longitude           203 non-null    float64\n",
      " 5   altitude            203 non-null    int64  \n",
      " 6   ground_speed        203 non-null    int64  \n",
      " 7   heading             203 non-null    int64  \n",
      " 8   transponder         203 non-null    int64  \n",
      " 9   aircraft            203 non-null    object \n",
      " 10  departure           203 non-null    object \n",
      " 11  nm_from_dep         203 non-null    float64\n",
      " 12  arrival             203 non-null    object \n",
      " 13  nm_from_arr         201 non-null    float64\n",
      " 14  alternate           157 non-null    object \n",
      " 15  route               199 non-null    object \n",
      " 16  flight_rules        203 non-null    object \n",
      " 17  filed_altitude      203 non-null    object \n",
      " 18  filed_tas           203 non-null    int64  \n",
      " 19  filed_time_enroute  203 non-null    object \n",
      " 20  filed_fuel_onboard  203 non-null    object \n",
      " 21  remarks             200 non-null    object \n",
      " 22  stage_of_flight     201 non-null    object \n",
      " 23  time_logon          203 non-null    object \n",
      "dtypes: float64(4), int64(6), object(14)\n",
      "memory usage: 39.6+ KB\n"
     ]
    }
   ],
   "source": [
    "df.info()"
   ]
  },
  {
   "cell_type": "code",
   "execution_count": 7,
   "id": "08ccc110",
   "metadata": {},
   "outputs": [
    {
     "data": {
      "text/plain": [
       "Index(['callsign', 'cid', 'name', 'latitude', 'longitude', 'altitude',\n",
       "       'ground_speed', 'heading', 'transponder', 'aircraft', 'departure',\n",
       "       'nm_from_dep', 'arrival', 'nm_from_arr', 'alternate', 'route',\n",
       "       'flight_rules', 'filed_altitude', 'filed_tas', 'filed_time_enroute',\n",
       "       'filed_fuel_onboard', 'remarks', 'stage_of_flight', 'time_logon'],\n",
       "      dtype='object')"
      ]
     },
     "execution_count": 7,
     "metadata": {},
     "output_type": "execute_result"
    }
   ],
   "source": [
    "df.columns"
   ]
  },
  {
   "cell_type": "code",
   "execution_count": 8,
   "id": "6943b335",
   "metadata": {},
   "outputs": [
    {
     "data": {
      "text/plain": [
       "callsign               0\n",
       "cid                    0\n",
       "name                   0\n",
       "latitude               0\n",
       "longitude              0\n",
       "altitude               0\n",
       "ground_speed           0\n",
       "heading                0\n",
       "transponder            0\n",
       "aircraft               0\n",
       "departure              0\n",
       "nm_from_dep            0\n",
       "arrival                0\n",
       "nm_from_arr            2\n",
       "alternate             46\n",
       "route                  4\n",
       "flight_rules           0\n",
       "filed_altitude         0\n",
       "filed_tas              0\n",
       "filed_time_enroute     0\n",
       "filed_fuel_onboard     0\n",
       "remarks                3\n",
       "stage_of_flight        2\n",
       "time_logon             0\n",
       "dtype: int64"
      ]
     },
     "execution_count": 8,
     "metadata": {},
     "output_type": "execute_result"
    }
   ],
   "source": [
    "df.isnull().sum()"
   ]
  },
  {
   "cell_type": "code",
   "execution_count": 9,
   "id": "fe385b6d",
   "metadata": {
    "scrolled": true
   },
   "outputs": [
    {
     "data": {
      "text/plain": [
       "callsign               object\n",
       "cid                     int64\n",
       "name                   object\n",
       "latitude              float64\n",
       "longitude             float64\n",
       "altitude                int64\n",
       "ground_speed            int64\n",
       "heading                 int64\n",
       "transponder             int64\n",
       "aircraft               object\n",
       "departure              object\n",
       "nm_from_dep           float64\n",
       "arrival                object\n",
       "nm_from_arr           float64\n",
       "alternate              object\n",
       "route                  object\n",
       "flight_rules           object\n",
       "filed_altitude         object\n",
       "filed_tas               int64\n",
       "filed_time_enroute     object\n",
       "filed_fuel_onboard     object\n",
       "remarks                object\n",
       "stage_of_flight        object\n",
       "time_logon             object\n",
       "dtype: object"
      ]
     },
     "execution_count": 9,
     "metadata": {},
     "output_type": "execute_result"
    }
   ],
   "source": [
    "df.dtypes"
   ]
  },
  {
   "cell_type": "code",
   "execution_count": 10,
   "id": "1fe80509",
   "metadata": {},
   "outputs": [],
   "source": [
    "# getting an overview of the available aircraft so as to see the unique aircraft codes we would be looking to extract for Boeing Aircraft"
   ]
  },
  {
   "cell_type": "code",
   "execution_count": 11,
   "id": "bb9a6b23",
   "metadata": {},
   "outputs": [
    {
     "data": {
      "text/plain": [
       "array(['B739/W', 'MD88/L', 'B737', 'A319', 'A319/L', 'B738/L', 'H/B763/C',\n",
       "       'B737/L', 'B738', 'H/B763/X', 'A321/L', 'T/B738-300/F', 'TBM9/L',\n",
       "       'MD83/L', 'B752/L', 'C172/G', 'B752', 'B739', 'E75L/L', 'H/A359',\n",
       "       'T/A319/F', 'C208/C', 'B752/P', 'A321', 'B789/L', 'H/B789/L',\n",
       "       'H/B788/L', 'H/B77W/L', 'H/B748/H', 'B/B773/F', 'B739/L', 'AT72/L',\n",
       "       'A320/L', 'BE20/L', 'AT75', 'H/MD11/L', 'A321/X', 'H/B744/RSJM',\n",
       "       'H/A333/L', 'A320/X', 'H/B772/Z', 'H/B789', 'CRJ7/L', 'H/B763/L',\n",
       "       'H/A319/L', 'A21N', 'GLEX/G', 'BE30/G', 'B737/X', 'H/B748/L',\n",
       "       'B738/A', 'B77L/L', 'B722/W', 'H/B77L/L', 'KODI/G', 'B763/L',\n",
       "       'H/B772', 'T/B738/L', 'BE58/G', 'BE60/G', 'C340/L', 'H/B744/L',\n",
       "       'H/B752', 'B752/Z', 'B763', 'B78X/Z', 'B772', 'H/B772/L',\n",
       "       'H/B748/C', 'A319/G', 'A333/L', 'H/A333', 'A332', 'T/A321/L'],\n",
       "      dtype=object)"
      ]
     },
     "execution_count": 11,
     "metadata": {},
     "output_type": "execute_result"
    }
   ],
   "source": [
    "df['aircraft'].unique() # aircraft types overview"
   ]
  },
  {
   "cell_type": "code",
   "execution_count": 12,
   "id": "ec32b3c6",
   "metadata": {},
   "outputs": [
    {
     "data": {
      "text/html": [
       "<div>\n",
       "<style scoped>\n",
       "    .dataframe tbody tr th:only-of-type {\n",
       "        vertical-align: middle;\n",
       "    }\n",
       "\n",
       "    .dataframe tbody tr th {\n",
       "        vertical-align: top;\n",
       "    }\n",
       "\n",
       "    .dataframe thead th {\n",
       "        text-align: right;\n",
       "    }\n",
       "</style>\n",
       "<table border=\"1\" class=\"dataframe\">\n",
       "  <thead>\n",
       "    <tr style=\"text-align: right;\">\n",
       "      <th></th>\n",
       "      <th>callsign</th>\n",
       "      <th>cid</th>\n",
       "      <th>name</th>\n",
       "      <th>latitude</th>\n",
       "      <th>longitude</th>\n",
       "      <th>altitude</th>\n",
       "      <th>ground_speed</th>\n",
       "      <th>heading</th>\n",
       "      <th>transponder</th>\n",
       "      <th>departure</th>\n",
       "      <th>nm_from_dep</th>\n",
       "      <th>arrival</th>\n",
       "      <th>nm_from_arr</th>\n",
       "      <th>alternate</th>\n",
       "      <th>route</th>\n",
       "      <th>flight_rules</th>\n",
       "      <th>filed_altitude</th>\n",
       "      <th>filed_tas</th>\n",
       "      <th>filed_time_enroute</th>\n",
       "      <th>filed_fuel_onboard</th>\n",
       "      <th>remarks</th>\n",
       "      <th>stage_of_flight</th>\n",
       "      <th>time_logon</th>\n",
       "    </tr>\n",
       "    <tr>\n",
       "      <th>aircraft</th>\n",
       "      <th></th>\n",
       "      <th></th>\n",
       "      <th></th>\n",
       "      <th></th>\n",
       "      <th></th>\n",
       "      <th></th>\n",
       "      <th></th>\n",
       "      <th></th>\n",
       "      <th></th>\n",
       "      <th></th>\n",
       "      <th></th>\n",
       "      <th></th>\n",
       "      <th></th>\n",
       "      <th></th>\n",
       "      <th></th>\n",
       "      <th></th>\n",
       "      <th></th>\n",
       "      <th></th>\n",
       "      <th></th>\n",
       "      <th></th>\n",
       "      <th></th>\n",
       "      <th></th>\n",
       "      <th></th>\n",
       "    </tr>\n",
       "  </thead>\n",
       "  <tbody>\n",
       "    <tr>\n",
       "      <th>A21N</th>\n",
       "      <td>3</td>\n",
       "      <td>3</td>\n",
       "      <td>3</td>\n",
       "      <td>3</td>\n",
       "      <td>3</td>\n",
       "      <td>3</td>\n",
       "      <td>3</td>\n",
       "      <td>3</td>\n",
       "      <td>3</td>\n",
       "      <td>3</td>\n",
       "      <td>3</td>\n",
       "      <td>3</td>\n",
       "      <td>3</td>\n",
       "      <td>3</td>\n",
       "      <td>3</td>\n",
       "      <td>3</td>\n",
       "      <td>3</td>\n",
       "      <td>3</td>\n",
       "      <td>3</td>\n",
       "      <td>3</td>\n",
       "      <td>3</td>\n",
       "      <td>3</td>\n",
       "      <td>3</td>\n",
       "    </tr>\n",
       "    <tr>\n",
       "      <th>A319</th>\n",
       "      <td>2</td>\n",
       "      <td>2</td>\n",
       "      <td>2</td>\n",
       "      <td>2</td>\n",
       "      <td>2</td>\n",
       "      <td>2</td>\n",
       "      <td>2</td>\n",
       "      <td>2</td>\n",
       "      <td>2</td>\n",
       "      <td>2</td>\n",
       "      <td>2</td>\n",
       "      <td>2</td>\n",
       "      <td>2</td>\n",
       "      <td>2</td>\n",
       "      <td>2</td>\n",
       "      <td>2</td>\n",
       "      <td>2</td>\n",
       "      <td>2</td>\n",
       "      <td>2</td>\n",
       "      <td>2</td>\n",
       "      <td>2</td>\n",
       "      <td>2</td>\n",
       "      <td>2</td>\n",
       "    </tr>\n",
       "    <tr>\n",
       "      <th>A319/G</th>\n",
       "      <td>1</td>\n",
       "      <td>1</td>\n",
       "      <td>1</td>\n",
       "      <td>1</td>\n",
       "      <td>1</td>\n",
       "      <td>1</td>\n",
       "      <td>1</td>\n",
       "      <td>1</td>\n",
       "      <td>1</td>\n",
       "      <td>1</td>\n",
       "      <td>1</td>\n",
       "      <td>1</td>\n",
       "      <td>1</td>\n",
       "      <td>1</td>\n",
       "      <td>1</td>\n",
       "      <td>1</td>\n",
       "      <td>1</td>\n",
       "      <td>1</td>\n",
       "      <td>1</td>\n",
       "      <td>1</td>\n",
       "      <td>1</td>\n",
       "      <td>1</td>\n",
       "      <td>1</td>\n",
       "    </tr>\n",
       "    <tr>\n",
       "      <th>A319/L</th>\n",
       "      <td>7</td>\n",
       "      <td>7</td>\n",
       "      <td>7</td>\n",
       "      <td>7</td>\n",
       "      <td>7</td>\n",
       "      <td>7</td>\n",
       "      <td>7</td>\n",
       "      <td>7</td>\n",
       "      <td>7</td>\n",
       "      <td>7</td>\n",
       "      <td>7</td>\n",
       "      <td>7</td>\n",
       "      <td>7</td>\n",
       "      <td>5</td>\n",
       "      <td>7</td>\n",
       "      <td>7</td>\n",
       "      <td>7</td>\n",
       "      <td>7</td>\n",
       "      <td>7</td>\n",
       "      <td>7</td>\n",
       "      <td>7</td>\n",
       "      <td>7</td>\n",
       "      <td>7</td>\n",
       "    </tr>\n",
       "    <tr>\n",
       "      <th>A320/L</th>\n",
       "      <td>5</td>\n",
       "      <td>5</td>\n",
       "      <td>5</td>\n",
       "      <td>5</td>\n",
       "      <td>5</td>\n",
       "      <td>5</td>\n",
       "      <td>5</td>\n",
       "      <td>5</td>\n",
       "      <td>5</td>\n",
       "      <td>5</td>\n",
       "      <td>5</td>\n",
       "      <td>5</td>\n",
       "      <td>5</td>\n",
       "      <td>4</td>\n",
       "      <td>5</td>\n",
       "      <td>5</td>\n",
       "      <td>5</td>\n",
       "      <td>5</td>\n",
       "      <td>5</td>\n",
       "      <td>5</td>\n",
       "      <td>5</td>\n",
       "      <td>5</td>\n",
       "      <td>5</td>\n",
       "    </tr>\n",
       "    <tr>\n",
       "      <th>...</th>\n",
       "      <td>...</td>\n",
       "      <td>...</td>\n",
       "      <td>...</td>\n",
       "      <td>...</td>\n",
       "      <td>...</td>\n",
       "      <td>...</td>\n",
       "      <td>...</td>\n",
       "      <td>...</td>\n",
       "      <td>...</td>\n",
       "      <td>...</td>\n",
       "      <td>...</td>\n",
       "      <td>...</td>\n",
       "      <td>...</td>\n",
       "      <td>...</td>\n",
       "      <td>...</td>\n",
       "      <td>...</td>\n",
       "      <td>...</td>\n",
       "      <td>...</td>\n",
       "      <td>...</td>\n",
       "      <td>...</td>\n",
       "      <td>...</td>\n",
       "      <td>...</td>\n",
       "      <td>...</td>\n",
       "    </tr>\n",
       "    <tr>\n",
       "      <th>T/A319/F</th>\n",
       "      <td>2</td>\n",
       "      <td>2</td>\n",
       "      <td>2</td>\n",
       "      <td>2</td>\n",
       "      <td>2</td>\n",
       "      <td>2</td>\n",
       "      <td>2</td>\n",
       "      <td>2</td>\n",
       "      <td>2</td>\n",
       "      <td>2</td>\n",
       "      <td>2</td>\n",
       "      <td>2</td>\n",
       "      <td>2</td>\n",
       "      <td>0</td>\n",
       "      <td>2</td>\n",
       "      <td>2</td>\n",
       "      <td>2</td>\n",
       "      <td>2</td>\n",
       "      <td>2</td>\n",
       "      <td>2</td>\n",
       "      <td>0</td>\n",
       "      <td>2</td>\n",
       "      <td>2</td>\n",
       "    </tr>\n",
       "    <tr>\n",
       "      <th>T/A321/L</th>\n",
       "      <td>1</td>\n",
       "      <td>1</td>\n",
       "      <td>1</td>\n",
       "      <td>1</td>\n",
       "      <td>1</td>\n",
       "      <td>1</td>\n",
       "      <td>1</td>\n",
       "      <td>1</td>\n",
       "      <td>1</td>\n",
       "      <td>1</td>\n",
       "      <td>1</td>\n",
       "      <td>1</td>\n",
       "      <td>1</td>\n",
       "      <td>1</td>\n",
       "      <td>1</td>\n",
       "      <td>1</td>\n",
       "      <td>1</td>\n",
       "      <td>1</td>\n",
       "      <td>1</td>\n",
       "      <td>1</td>\n",
       "      <td>1</td>\n",
       "      <td>1</td>\n",
       "      <td>1</td>\n",
       "    </tr>\n",
       "    <tr>\n",
       "      <th>T/B738-300/F</th>\n",
       "      <td>2</td>\n",
       "      <td>2</td>\n",
       "      <td>2</td>\n",
       "      <td>2</td>\n",
       "      <td>2</td>\n",
       "      <td>2</td>\n",
       "      <td>2</td>\n",
       "      <td>2</td>\n",
       "      <td>2</td>\n",
       "      <td>2</td>\n",
       "      <td>2</td>\n",
       "      <td>2</td>\n",
       "      <td>2</td>\n",
       "      <td>2</td>\n",
       "      <td>2</td>\n",
       "      <td>2</td>\n",
       "      <td>2</td>\n",
       "      <td>2</td>\n",
       "      <td>2</td>\n",
       "      <td>2</td>\n",
       "      <td>2</td>\n",
       "      <td>2</td>\n",
       "      <td>2</td>\n",
       "    </tr>\n",
       "    <tr>\n",
       "      <th>T/B738/L</th>\n",
       "      <td>3</td>\n",
       "      <td>3</td>\n",
       "      <td>3</td>\n",
       "      <td>3</td>\n",
       "      <td>3</td>\n",
       "      <td>3</td>\n",
       "      <td>3</td>\n",
       "      <td>3</td>\n",
       "      <td>3</td>\n",
       "      <td>3</td>\n",
       "      <td>3</td>\n",
       "      <td>3</td>\n",
       "      <td>3</td>\n",
       "      <td>3</td>\n",
       "      <td>3</td>\n",
       "      <td>3</td>\n",
       "      <td>3</td>\n",
       "      <td>3</td>\n",
       "      <td>3</td>\n",
       "      <td>3</td>\n",
       "      <td>3</td>\n",
       "      <td>3</td>\n",
       "      <td>3</td>\n",
       "    </tr>\n",
       "    <tr>\n",
       "      <th>TBM9/L</th>\n",
       "      <td>4</td>\n",
       "      <td>4</td>\n",
       "      <td>4</td>\n",
       "      <td>4</td>\n",
       "      <td>4</td>\n",
       "      <td>4</td>\n",
       "      <td>4</td>\n",
       "      <td>4</td>\n",
       "      <td>4</td>\n",
       "      <td>4</td>\n",
       "      <td>4</td>\n",
       "      <td>4</td>\n",
       "      <td>4</td>\n",
       "      <td>2</td>\n",
       "      <td>2</td>\n",
       "      <td>4</td>\n",
       "      <td>4</td>\n",
       "      <td>4</td>\n",
       "      <td>4</td>\n",
       "      <td>4</td>\n",
       "      <td>4</td>\n",
       "      <td>4</td>\n",
       "      <td>4</td>\n",
       "    </tr>\n",
       "  </tbody>\n",
       "</table>\n",
       "<p>74 rows × 23 columns</p>\n",
       "</div>"
      ],
      "text/plain": [
       "              callsign  cid  name  latitude  longitude  altitude  \\\n",
       "aircraft                                                           \n",
       "A21N                 3    3     3         3          3         3   \n",
       "A319                 2    2     2         2          2         2   \n",
       "A319/G               1    1     1         1          1         1   \n",
       "A319/L               7    7     7         7          7         7   \n",
       "A320/L               5    5     5         5          5         5   \n",
       "...                ...  ...   ...       ...        ...       ...   \n",
       "T/A319/F             2    2     2         2          2         2   \n",
       "T/A321/L             1    1     1         1          1         1   \n",
       "T/B738-300/F         2    2     2         2          2         2   \n",
       "T/B738/L             3    3     3         3          3         3   \n",
       "TBM9/L               4    4     4         4          4         4   \n",
       "\n",
       "              ground_speed  heading  transponder  departure  nm_from_dep  \\\n",
       "aircraft                                                                   \n",
       "A21N                     3        3            3          3            3   \n",
       "A319                     2        2            2          2            2   \n",
       "A319/G                   1        1            1          1            1   \n",
       "A319/L                   7        7            7          7            7   \n",
       "A320/L                   5        5            5          5            5   \n",
       "...                    ...      ...          ...        ...          ...   \n",
       "T/A319/F                 2        2            2          2            2   \n",
       "T/A321/L                 1        1            1          1            1   \n",
       "T/B738-300/F             2        2            2          2            2   \n",
       "T/B738/L                 3        3            3          3            3   \n",
       "TBM9/L                   4        4            4          4            4   \n",
       "\n",
       "              arrival  nm_from_arr  alternate  route  flight_rules  \\\n",
       "aircraft                                                             \n",
       "A21N                3            3          3      3             3   \n",
       "A319                2            2          2      2             2   \n",
       "A319/G              1            1          1      1             1   \n",
       "A319/L              7            7          5      7             7   \n",
       "A320/L              5            5          4      5             5   \n",
       "...               ...          ...        ...    ...           ...   \n",
       "T/A319/F            2            2          0      2             2   \n",
       "T/A321/L            1            1          1      1             1   \n",
       "T/B738-300/F        2            2          2      2             2   \n",
       "T/B738/L            3            3          3      3             3   \n",
       "TBM9/L              4            4          2      2             4   \n",
       "\n",
       "              filed_altitude  filed_tas  filed_time_enroute  \\\n",
       "aircraft                                                      \n",
       "A21N                       3          3                   3   \n",
       "A319                       2          2                   2   \n",
       "A319/G                     1          1                   1   \n",
       "A319/L                     7          7                   7   \n",
       "A320/L                     5          5                   5   \n",
       "...                      ...        ...                 ...   \n",
       "T/A319/F                   2          2                   2   \n",
       "T/A321/L                   1          1                   1   \n",
       "T/B738-300/F               2          2                   2   \n",
       "T/B738/L                   3          3                   3   \n",
       "TBM9/L                     4          4                   4   \n",
       "\n",
       "              filed_fuel_onboard  remarks  stage_of_flight  time_logon  \n",
       "aircraft                                                                \n",
       "A21N                           3        3                3           3  \n",
       "A319                           2        2                2           2  \n",
       "A319/G                         1        1                1           1  \n",
       "A319/L                         7        7                7           7  \n",
       "A320/L                         5        5                5           5  \n",
       "...                          ...      ...              ...         ...  \n",
       "T/A319/F                       2        0                2           2  \n",
       "T/A321/L                       1        1                1           1  \n",
       "T/B738-300/F                   2        2                2           2  \n",
       "T/B738/L                       3        3                3           3  \n",
       "TBM9/L                         4        4                4           4  \n",
       "\n",
       "[74 rows x 23 columns]"
      ]
     },
     "execution_count": 12,
     "metadata": {},
     "output_type": "execute_result"
    }
   ],
   "source": [
    "df.groupby(['aircraft']).count()"
   ]
  },
  {
   "cell_type": "markdown",
   "id": "f003a0ba-3054-41a5-917b-d14a7d2a491b",
   "metadata": {},
   "source": [
    "## Extracting the data that has Boeing Airplane"
   ]
  },
  {
   "cell_type": "code",
   "execution_count": 71,
   "id": "a0a826b4",
   "metadata": {},
   "outputs": [],
   "source": [
    "# Noticed that ,in the dataset, the aircrafts having B in them are for the boeing airline. \n",
    "# So let's filter out for boeing airline and create a new dataset"
   ]
  },
  {
   "cell_type": "code",
   "execution_count": 14,
   "id": "31b38392",
   "metadata": {},
   "outputs": [
    {
     "data": {
      "text/html": [
       "<div>\n",
       "<style scoped>\n",
       "    .dataframe tbody tr th:only-of-type {\n",
       "        vertical-align: middle;\n",
       "    }\n",
       "\n",
       "    .dataframe tbody tr th {\n",
       "        vertical-align: top;\n",
       "    }\n",
       "\n",
       "    .dataframe thead th {\n",
       "        text-align: right;\n",
       "    }\n",
       "</style>\n",
       "<table border=\"1\" class=\"dataframe\">\n",
       "  <thead>\n",
       "    <tr style=\"text-align: right;\">\n",
       "      <th></th>\n",
       "      <th>callsign</th>\n",
       "      <th>cid</th>\n",
       "      <th>name</th>\n",
       "      <th>latitude</th>\n",
       "      <th>longitude</th>\n",
       "      <th>altitude</th>\n",
       "      <th>ground_speed</th>\n",
       "      <th>heading</th>\n",
       "      <th>transponder</th>\n",
       "      <th>aircraft</th>\n",
       "      <th>departure</th>\n",
       "      <th>nm_from_dep</th>\n",
       "      <th>arrival</th>\n",
       "      <th>nm_from_arr</th>\n",
       "      <th>alternate</th>\n",
       "      <th>route</th>\n",
       "      <th>flight_rules</th>\n",
       "      <th>filed_altitude</th>\n",
       "      <th>filed_tas</th>\n",
       "      <th>filed_time_enroute</th>\n",
       "      <th>filed_fuel_onboard</th>\n",
       "      <th>remarks</th>\n",
       "      <th>stage_of_flight</th>\n",
       "      <th>time_logon</th>\n",
       "    </tr>\n",
       "  </thead>\n",
       "  <tbody>\n",
       "    <tr>\n",
       "      <th>0</th>\n",
       "      <td>WWA3592</td>\n",
       "      <td>813973</td>\n",
       "      <td>Chris Cramblet KDFW</td>\n",
       "      <td>37.89221</td>\n",
       "      <td>-79.11392</td>\n",
       "      <td>33988</td>\n",
       "      <td>413</td>\n",
       "      <td>233</td>\n",
       "      <td>1200</td>\n",
       "      <td>B739/W</td>\n",
       "      <td>KALB</td>\n",
       "      <td>379.27</td>\n",
       "      <td>KATL</td>\n",
       "      <td>363.40</td>\n",
       "      <td>NaN</td>\n",
       "      <td>ALB7.PWL SAX J77 EMI J48 SPA2 J53 SPA.WHINZ4</td>\n",
       "      <td>IFR</td>\n",
       "      <td>34000</td>\n",
       "      <td>460</td>\n",
       "      <td>1:57</td>\n",
       "      <td>5:30</td>\n",
       "      <td>Charts as Filed - ActiveSky - Fly www.flywestw...</td>\n",
       "      <td>Cruise</td>\n",
       "      <td>2020-03-02 19:08:42</td>\n",
       "    </tr>\n",
       "    <tr>\n",
       "      <th>2</th>\n",
       "      <td>DAL446</td>\n",
       "      <td>1322705</td>\n",
       "      <td>Jack Adderley MYNN</td>\n",
       "      <td>43.56900</td>\n",
       "      <td>-79.45749</td>\n",
       "      <td>8976</td>\n",
       "      <td>265</td>\n",
       "      <td>9</td>\n",
       "      <td>1200</td>\n",
       "      <td>B737</td>\n",
       "      <td>KATL</td>\n",
       "      <td>639.62</td>\n",
       "      <td>CYYZ</td>\n",
       "      <td>9.93</td>\n",
       "      <td>CYTR</td>\n",
       "      <td>SMKEY2 BOBBD Q71 GEFFS EWC OXMAN LINNG2</td>\n",
       "      <td>IFR</td>\n",
       "      <td>FL350</td>\n",
       "      <td>450</td>\n",
       "      <td>1:43</td>\n",
       "      <td>3:22</td>\n",
       "      <td>/L NAV/GPSRNAV</td>\n",
       "      <td>Descent</td>\n",
       "      <td>2020-03-02 19:08:42</td>\n",
       "    </tr>\n",
       "    <tr>\n",
       "      <th>5</th>\n",
       "      <td>DAL202</td>\n",
       "      <td>1358097</td>\n",
       "      <td>Christopher Windust</td>\n",
       "      <td>41.18341</td>\n",
       "      <td>-77.38996</td>\n",
       "      <td>35997</td>\n",
       "      <td>412</td>\n",
       "      <td>240</td>\n",
       "      <td>1200</td>\n",
       "      <td>B738/L</td>\n",
       "      <td>KBOS</td>\n",
       "      <td>294.30</td>\n",
       "      <td>KCVG</td>\n",
       "      <td>357.54</td>\n",
       "      <td>NaN</td>\n",
       "      <td>REVSS4 REVSS CTR HNK J49 MAGIO J49 PSB MAULL K...</td>\n",
       "      <td>IFR</td>\n",
       "      <td>36000</td>\n",
       "      <td>450</td>\n",
       "      <td>2:40</td>\n",
       "      <td>3:0</td>\n",
       "      <td>New to Vatsim / Airac 2003 /v/</td>\n",
       "      <td>Climb</td>\n",
       "      <td>2020-03-02 19:08:42</td>\n",
       "    </tr>\n",
       "    <tr>\n",
       "      <th>6</th>\n",
       "      <td>TUI001</td>\n",
       "      <td>1474244</td>\n",
       "      <td>Mischa Lueckert  EDDV</td>\n",
       "      <td>53.09648</td>\n",
       "      <td>-36.42069</td>\n",
       "      <td>32598</td>\n",
       "      <td>499</td>\n",
       "      <td>90</td>\n",
       "      <td>2000</td>\n",
       "      <td>H/B763/C</td>\n",
       "      <td>KBOS</td>\n",
       "      <td>1517.92</td>\n",
       "      <td>EGLL</td>\n",
       "      <td>1309.64</td>\n",
       "      <td>EGBB</td>\n",
       "      <td>LBSTA6 LBSTA DCT EBONY N439A TUDEP NATT GISTI ...</td>\n",
       "      <td>IFR</td>\n",
       "      <td>35000</td>\n",
       "      <td>450</td>\n",
       "      <td>5:34</td>\n",
       "      <td>7:0</td>\n",
       "      <td>/v/</td>\n",
       "      <td>Cruise</td>\n",
       "      <td>2020-03-02 19:08:42</td>\n",
       "    </tr>\n",
       "    <tr>\n",
       "      <th>7</th>\n",
       "      <td>DAL979</td>\n",
       "      <td>1317425</td>\n",
       "      <td>Thiago Fontes SBGR</td>\n",
       "      <td>37.46615</td>\n",
       "      <td>-79.57410</td>\n",
       "      <td>36030</td>\n",
       "      <td>398</td>\n",
       "      <td>237</td>\n",
       "      <td>2000</td>\n",
       "      <td>B737/L</td>\n",
       "      <td>KBWI</td>\n",
       "      <td>170.96</td>\n",
       "      <td>KATL</td>\n",
       "      <td>329.99</td>\n",
       "      <td>KBNA</td>\n",
       "      <td>TERPZ6 FLASK OZZZI1</td>\n",
       "      <td>IFR</td>\n",
       "      <td>36000</td>\n",
       "      <td>448</td>\n",
       "      <td>1:34</td>\n",
       "      <td>3:29</td>\n",
       "      <td>PBN/A1B1C1D1S1S2 DOF/200302 REG/N714SB EET/KZT...</td>\n",
       "      <td>Cruise</td>\n",
       "      <td>2020-03-02 19:08:42</td>\n",
       "    </tr>\n",
       "    <tr>\n",
       "      <th>...</th>\n",
       "      <td>...</td>\n",
       "      <td>...</td>\n",
       "      <td>...</td>\n",
       "      <td>...</td>\n",
       "      <td>...</td>\n",
       "      <td>...</td>\n",
       "      <td>...</td>\n",
       "      <td>...</td>\n",
       "      <td>...</td>\n",
       "      <td>...</td>\n",
       "      <td>...</td>\n",
       "      <td>...</td>\n",
       "      <td>...</td>\n",
       "      <td>...</td>\n",
       "      <td>...</td>\n",
       "      <td>...</td>\n",
       "      <td>...</td>\n",
       "      <td>...</td>\n",
       "      <td>...</td>\n",
       "      <td>...</td>\n",
       "      <td>...</td>\n",
       "      <td>...</td>\n",
       "      <td>...</td>\n",
       "      <td>...</td>\n",
       "    </tr>\n",
       "    <tr>\n",
       "      <th>91</th>\n",
       "      <td>UPS3116</td>\n",
       "      <td>834265</td>\n",
       "      <td>834265</td>\n",
       "      <td>54.15176</td>\n",
       "      <td>-113.65211</td>\n",
       "      <td>32597</td>\n",
       "      <td>550</td>\n",
       "      <td>121</td>\n",
       "      <td>2000</td>\n",
       "      <td>H/B763/L</td>\n",
       "      <td>PANC</td>\n",
       "      <td>1221.24</td>\n",
       "      <td>KSDF</td>\n",
       "      <td>1487.96</td>\n",
       "      <td>KCVG</td>\n",
       "      <td>TED YESKA NCA11 YWV J475 VLN J483 CFHLT/N0455F...</td>\n",
       "      <td>IFR</td>\n",
       "      <td>33000</td>\n",
       "      <td>450</td>\n",
       "      <td>5:38</td>\n",
       "      <td>7:3</td>\n",
       "      <td>+VFPS+/T/PBN/A1B1C1D1L1O1 DOF/200302 REG/N618S...</td>\n",
       "      <td>Climb</td>\n",
       "      <td>2020-03-02 19:08:42</td>\n",
       "    </tr>\n",
       "    <tr>\n",
       "      <th>93</th>\n",
       "      <td>AAL835</td>\n",
       "      <td>916435</td>\n",
       "      <td>Michael Martin KGSP</td>\n",
       "      <td>37.46323</td>\n",
       "      <td>-88.50023</td>\n",
       "      <td>33869</td>\n",
       "      <td>370</td>\n",
       "      <td>303</td>\n",
       "      <td>2200</td>\n",
       "      <td>B738/L</td>\n",
       "      <td>KMCO</td>\n",
       "      <td>651.39</td>\n",
       "      <td>KSEA</td>\n",
       "      <td>1596.76</td>\n",
       "      <td>KPDX</td>\n",
       "      <td>JAG6 MATEO SHRKS DBN GQO BNA/N0462F340 KK51K I...</td>\n",
       "      <td>IFR</td>\n",
       "      <td>32000</td>\n",
       "      <td>472</td>\n",
       "      <td>6:19</td>\n",
       "      <td>7:44</td>\n",
       "      <td>PBN/A1B1C1D1S1S2 NAV/RNVD1E2A1 DAT/V DOF/20030...</td>\n",
       "      <td>Cruise</td>\n",
       "      <td>2020-03-02 19:08:42</td>\n",
       "    </tr>\n",
       "    <tr>\n",
       "      <th>95</th>\n",
       "      <td>ASA1340</td>\n",
       "      <td>1043972</td>\n",
       "      <td>Casey Crebs KPDX</td>\n",
       "      <td>37.50245</td>\n",
       "      <td>-122.14433</td>\n",
       "      <td>3019</td>\n",
       "      <td>142</td>\n",
       "      <td>339</td>\n",
       "      <td>2000</td>\n",
       "      <td>B738</td>\n",
       "      <td>KPHX</td>\n",
       "      <td>551.88</td>\n",
       "      <td>KSFO</td>\n",
       "      <td>13.01</td>\n",
       "      <td>KSTS</td>\n",
       "      <td>N0449F320 CHILY4 HOBES J92 PRFUM Q13 TUMBE Q16...</td>\n",
       "      <td>IFR</td>\n",
       "      <td>36000</td>\n",
       "      <td>449</td>\n",
       "      <td>1:31</td>\n",
       "      <td>3:25</td>\n",
       "      <td>PBN/A1B1C1D1L1O1S1 NAV/RNVD1E2A1 DOF/200302 RE...</td>\n",
       "      <td>Descent</td>\n",
       "      <td>2020-03-02 19:08:42</td>\n",
       "    </tr>\n",
       "    <tr>\n",
       "      <th>96</th>\n",
       "      <td>WJA209</td>\n",
       "      <td>831734</td>\n",
       "      <td>David Paton CYVR</td>\n",
       "      <td>45.22914</td>\n",
       "      <td>-123.35009</td>\n",
       "      <td>37430</td>\n",
       "      <td>507</td>\n",
       "      <td>185</td>\n",
       "      <td>2000</td>\n",
       "      <td>T/B738/L</td>\n",
       "      <td>CYVR</td>\n",
       "      <td>238.00</td>\n",
       "      <td>KSFO</td>\n",
       "      <td>458.74</td>\n",
       "      <td>KOAK</td>\n",
       "      <td>YVR V300 YYJ J589 ELMAA Q1 ETCHY MLBEC.BDEGA3</td>\n",
       "      <td>IFR</td>\n",
       "      <td>FL370</td>\n",
       "      <td>458</td>\n",
       "      <td>1:41</td>\n",
       "      <td>2:31</td>\n",
       "      <td>/V/ALL PLATES AND CHARTS</td>\n",
       "      <td>Climb</td>\n",
       "      <td>2020-03-02 19:08:42</td>\n",
       "    </tr>\n",
       "    <tr>\n",
       "      <th>97</th>\n",
       "      <td>DAL711</td>\n",
       "      <td>931185</td>\n",
       "      <td>Clemens Martin EDDN</td>\n",
       "      <td>40.34008</td>\n",
       "      <td>-111.88142</td>\n",
       "      <td>12443</td>\n",
       "      <td>283</td>\n",
       "      <td>322</td>\n",
       "      <td>2000</td>\n",
       "      <td>B752/L</td>\n",
       "      <td>KDFW</td>\n",
       "      <td>841.19</td>\n",
       "      <td>KSLC</td>\n",
       "      <td>27.12</td>\n",
       "      <td>NaN</td>\n",
       "      <td>HUDAD2 HUDAD PNH ALS JNC J12 HELPR LEEHY5</td>\n",
       "      <td>IFR</td>\n",
       "      <td>38000</td>\n",
       "      <td>450</td>\n",
       "      <td>2:30</td>\n",
       "      <td>3:55</td>\n",
       "      <td>x-plane 11, default scenery, deltava.org /v/</td>\n",
       "      <td>Descent</td>\n",
       "      <td>2020-03-02 19:08:42</td>\n",
       "    </tr>\n",
       "  </tbody>\n",
       "</table>\n",
       "<p>132 rows × 24 columns</p>\n",
       "</div>"
      ],
      "text/plain": [
       "   callsign      cid                   name  latitude  longitude  altitude  \\\n",
       "0   WWA3592   813973    Chris Cramblet KDFW  37.89221  -79.11392     33988   \n",
       "2    DAL446  1322705     Jack Adderley MYNN  43.56900  -79.45749      8976   \n",
       "5    DAL202  1358097    Christopher Windust  41.18341  -77.38996     35997   \n",
       "6    TUI001  1474244  Mischa Lueckert  EDDV  53.09648  -36.42069     32598   \n",
       "7    DAL979  1317425     Thiago Fontes SBGR  37.46615  -79.57410     36030   \n",
       "..      ...      ...                    ...       ...        ...       ...   \n",
       "91  UPS3116   834265                 834265  54.15176 -113.65211     32597   \n",
       "93   AAL835   916435    Michael Martin KGSP  37.46323  -88.50023     33869   \n",
       "95  ASA1340  1043972       Casey Crebs KPDX  37.50245 -122.14433      3019   \n",
       "96   WJA209   831734       David Paton CYVR  45.22914 -123.35009     37430   \n",
       "97   DAL711   931185    Clemens Martin EDDN  40.34008 -111.88142     12443   \n",
       "\n",
       "    ground_speed  heading  transponder  aircraft departure  nm_from_dep  \\\n",
       "0            413      233         1200    B739/W      KALB       379.27   \n",
       "2            265        9         1200      B737      KATL       639.62   \n",
       "5            412      240         1200    B738/L      KBOS       294.30   \n",
       "6            499       90         2000  H/B763/C      KBOS      1517.92   \n",
       "7            398      237         2000    B737/L      KBWI       170.96   \n",
       "..           ...      ...          ...       ...       ...          ...   \n",
       "91           550      121         2000  H/B763/L      PANC      1221.24   \n",
       "93           370      303         2200    B738/L      KMCO       651.39   \n",
       "95           142      339         2000      B738      KPHX       551.88   \n",
       "96           507      185         2000  T/B738/L      CYVR       238.00   \n",
       "97           283      322         2000    B752/L      KDFW       841.19   \n",
       "\n",
       "   arrival  nm_from_arr alternate  \\\n",
       "0     KATL       363.40       NaN   \n",
       "2     CYYZ         9.93      CYTR   \n",
       "5     KCVG       357.54       NaN   \n",
       "6     EGLL      1309.64      EGBB   \n",
       "7     KATL       329.99      KBNA   \n",
       "..     ...          ...       ...   \n",
       "91    KSDF      1487.96      KCVG   \n",
       "93    KSEA      1596.76      KPDX   \n",
       "95    KSFO        13.01      KSTS   \n",
       "96    KSFO       458.74      KOAK   \n",
       "97    KSLC        27.12       NaN   \n",
       "\n",
       "                                                route flight_rules  \\\n",
       "0        ALB7.PWL SAX J77 EMI J48 SPA2 J53 SPA.WHINZ4          IFR   \n",
       "2             SMKEY2 BOBBD Q71 GEFFS EWC OXMAN LINNG2          IFR   \n",
       "5   REVSS4 REVSS CTR HNK J49 MAGIO J49 PSB MAULL K...          IFR   \n",
       "6   LBSTA6 LBSTA DCT EBONY N439A TUDEP NATT GISTI ...          IFR   \n",
       "7                                 TERPZ6 FLASK OZZZI1          IFR   \n",
       "..                                                ...          ...   \n",
       "91  TED YESKA NCA11 YWV J475 VLN J483 CFHLT/N0455F...          IFR   \n",
       "93  JAG6 MATEO SHRKS DBN GQO BNA/N0462F340 KK51K I...          IFR   \n",
       "95  N0449F320 CHILY4 HOBES J92 PRFUM Q13 TUMBE Q16...          IFR   \n",
       "96      YVR V300 YYJ J589 ELMAA Q1 ETCHY MLBEC.BDEGA3          IFR   \n",
       "97          HUDAD2 HUDAD PNH ALS JNC J12 HELPR LEEHY5          IFR   \n",
       "\n",
       "   filed_altitude  filed_tas filed_time_enroute filed_fuel_onboard  \\\n",
       "0           34000        460               1:57               5:30   \n",
       "2           FL350        450               1:43               3:22   \n",
       "5           36000        450               2:40                3:0   \n",
       "6           35000        450               5:34                7:0   \n",
       "7           36000        448               1:34               3:29   \n",
       "..            ...        ...                ...                ...   \n",
       "91          33000        450               5:38                7:3   \n",
       "93          32000        472               6:19               7:44   \n",
       "95          36000        449               1:31               3:25   \n",
       "96          FL370        458               1:41               2:31   \n",
       "97          38000        450               2:30               3:55   \n",
       "\n",
       "                                              remarks stage_of_flight  \\\n",
       "0   Charts as Filed - ActiveSky - Fly www.flywestw...          Cruise   \n",
       "2                                      /L NAV/GPSRNAV         Descent   \n",
       "5                      New to Vatsim / Airac 2003 /v/           Climb   \n",
       "6                                                 /v/          Cruise   \n",
       "7   PBN/A1B1C1D1S1S2 DOF/200302 REG/N714SB EET/KZT...          Cruise   \n",
       "..                                                ...             ...   \n",
       "91  +VFPS+/T/PBN/A1B1C1D1L1O1 DOF/200302 REG/N618S...           Climb   \n",
       "93  PBN/A1B1C1D1S1S2 NAV/RNVD1E2A1 DAT/V DOF/20030...          Cruise   \n",
       "95  PBN/A1B1C1D1L1O1S1 NAV/RNVD1E2A1 DOF/200302 RE...         Descent   \n",
       "96                           /V/ALL PLATES AND CHARTS           Climb   \n",
       "97       x-plane 11, default scenery, deltava.org /v/         Descent   \n",
       "\n",
       "             time_logon  \n",
       "0   2020-03-02 19:08:42  \n",
       "2   2020-03-02 19:08:42  \n",
       "5   2020-03-02 19:08:42  \n",
       "6   2020-03-02 19:08:42  \n",
       "7   2020-03-02 19:08:42  \n",
       "..                  ...  \n",
       "91  2020-03-02 19:08:42  \n",
       "93  2020-03-02 19:08:42  \n",
       "95  2020-03-02 19:08:42  \n",
       "96  2020-03-02 19:08:42  \n",
       "97  2020-03-02 19:08:42  \n",
       "\n",
       "[132 rows x 24 columns]"
      ]
     },
     "execution_count": 14,
     "metadata": {},
     "output_type": "execute_result"
    }
   ],
   "source": [
    "condition = df['aircraft'].str.contains('B')\n",
    "Boeing_df=df[condition]\n",
    "Boeing_df"
   ]
  },
  {
   "cell_type": "code",
   "execution_count": 15,
   "id": "80b5d371",
   "metadata": {},
   "outputs": [
    {
     "data": {
      "text/plain": [
       "Index(['callsign', 'cid', 'name', 'latitude', 'longitude', 'altitude',\n",
       "       'ground_speed', 'heading', 'transponder', 'aircraft', 'departure',\n",
       "       'nm_from_dep', 'arrival', 'nm_from_arr', 'alternate', 'route',\n",
       "       'flight_rules', 'filed_altitude', 'filed_tas', 'filed_time_enroute',\n",
       "       'filed_fuel_onboard', 'remarks', 'stage_of_flight', 'time_logon'],\n",
       "      dtype='object')"
      ]
     },
     "execution_count": 15,
     "metadata": {},
     "output_type": "execute_result"
    }
   ],
   "source": [
    "Boeing_df.columns # having an overview of the features for the dataset "
   ]
  },
  {
   "cell_type": "code",
   "execution_count": 16,
   "id": "bf97a4e6",
   "metadata": {},
   "outputs": [
    {
     "name": "stderr",
     "output_type": "stream",
     "text": [
      "C:\\Users\\Mubaraq\\AppData\\Local\\Temp\\ipykernel_14956\\3720875815.py:1: SettingWithCopyWarning: \n",
      "A value is trying to be set on a copy of a slice from a DataFrame.\n",
      "Try using .loc[row_indexer,col_indexer] = value instead\n",
      "\n",
      "See the caveats in the documentation: https://pandas.pydata.org/pandas-docs/stable/user_guide/indexing.html#returning-a-view-versus-a-copy\n",
      "  Boeing_df['index']=range(132)\n"
     ]
    }
   ],
   "source": [
    "Boeing_df['index']=range(132)\n",
    "Boeing_df.set_index('index',inplace=True)"
   ]
  },
  {
   "cell_type": "markdown",
   "id": "e95ca268",
   "metadata": {},
   "source": [
    "## Data exploration for the dataset containing Boeing Aircrafts"
   ]
  },
  {
   "cell_type": "code",
   "execution_count": 17,
   "id": "141760d4-7b22-45d3-a3de-a11917f047da",
   "metadata": {},
   "outputs": [
    {
     "data": {
      "text/plain": [
       "<Axes: >"
      ]
     },
     "execution_count": 17,
     "metadata": {},
     "output_type": "execute_result"
    },
    {
     "data": {
      "image/png": "[encoded data removed]",
      "text/plain": [
       "<Figure size 2500x1000 with 2 Axes>"
      ]
     },
     "metadata": {},
     "output_type": "display_data"
    }
   ],
   "source": [
    "ms.matrix(Boeing_df) # chekcking for null values towards the consideration of looking at the relevant features \n",
    "# we would be working with, with inclusion of domain knowledge in feature selection"
   ]
  },
  {
   "cell_type": "code",
   "execution_count": 18,
   "id": "643dbc30",
   "metadata": {},
   "outputs": [
    {
     "data": {
      "text/plain": [
       "callsign               0\n",
       "cid                    0\n",
       "name                   0\n",
       "latitude               0\n",
       "longitude              0\n",
       "altitude               0\n",
       "ground_speed           0\n",
       "heading                0\n",
       "transponder            0\n",
       "aircraft               0\n",
       "departure              0\n",
       "nm_from_dep            0\n",
       "arrival                0\n",
       "nm_from_arr            2\n",
       "alternate             30\n",
       "route                  2\n",
       "flight_rules           0\n",
       "filed_altitude         0\n",
       "filed_tas              0\n",
       "filed_time_enroute     0\n",
       "filed_fuel_onboard     0\n",
       "remarks                1\n",
       "stage_of_flight        2\n",
       "time_logon             0\n",
       "dtype: int64"
      ]
     },
     "execution_count": 18,
     "metadata": {},
     "output_type": "execute_result"
    }
   ],
   "source": [
    "Boeing_df.isnull().sum() # viewing the number of null values in each of the columns"
   ]
  },
  {
   "cell_type": "code",
   "execution_count": 19,
   "id": "dff5bf14",
   "metadata": {},
   "outputs": [],
   "source": [
    "# now we are done retrieving the necessary data. Let's commence feature extraction and cleaning the data"
   ]
  },
  {
   "cell_type": "code",
   "execution_count": 20,
   "id": "b8d62978",
   "metadata": {},
   "outputs": [
    {
     "data": {
      "text/plain": [
       "Index(['callsign', 'cid', 'name', 'latitude', 'longitude', 'altitude',\n",
       "       'ground_speed', 'heading', 'transponder', 'aircraft', 'departure',\n",
       "       'nm_from_dep', 'arrival', 'nm_from_arr', 'alternate', 'route',\n",
       "       'flight_rules', 'filed_altitude', 'filed_tas', 'filed_time_enroute',\n",
       "       'filed_fuel_onboard', 'remarks', 'stage_of_flight', 'time_logon'],\n",
       "      dtype='object')"
      ]
     },
     "execution_count": 20,
     "metadata": {},
     "output_type": "execute_result"
    }
   ],
   "source": [
    "Boeing_df.columns"
   ]
  },
  {
   "cell_type": "code",
   "execution_count": 21,
   "id": "25fb1aff",
   "metadata": {},
   "outputs": [],
   "source": [
    "# selecting the relevant features. 'Filed altitude' column was also removed due to its multicollinearity effects"
   ]
  },
  {
   "cell_type": "code",
   "execution_count": 22,
   "id": "9033866e",
   "metadata": {},
   "outputs": [],
   "source": [
    "X=Boeing_df[['latitude', 'longitude', 'altitude',\n",
    "         'heading','filed_tas', 'filed_time_enroute']]\n",
    "Y=Boeing_df[['ground_speed']]"
   ]
  },
  {
   "cell_type": "code",
   "execution_count": 23,
   "id": "e67130ec",
   "metadata": {},
   "outputs": [
    {
     "data": {
      "text/html": [
       "<div>\n",
       "<style scoped>\n",
       "    .dataframe tbody tr th:only-of-type {\n",
       "        vertical-align: middle;\n",
       "    }\n",
       "\n",
       "    .dataframe tbody tr th {\n",
       "        vertical-align: top;\n",
       "    }\n",
       "\n",
       "    .dataframe thead th {\n",
       "        text-align: right;\n",
       "    }\n",
       "</style>\n",
       "<table border=\"1\" class=\"dataframe\">\n",
       "  <thead>\n",
       "    <tr style=\"text-align: right;\">\n",
       "      <th></th>\n",
       "      <th>latitude</th>\n",
       "      <th>longitude</th>\n",
       "      <th>altitude</th>\n",
       "      <th>heading</th>\n",
       "      <th>filed_tas</th>\n",
       "      <th>filed_time_enroute</th>\n",
       "    </tr>\n",
       "    <tr>\n",
       "      <th>index</th>\n",
       "      <th></th>\n",
       "      <th></th>\n",
       "      <th></th>\n",
       "      <th></th>\n",
       "      <th></th>\n",
       "      <th></th>\n",
       "    </tr>\n",
       "  </thead>\n",
       "  <tbody>\n",
       "    <tr>\n",
       "      <th>0</th>\n",
       "      <td>37.89221</td>\n",
       "      <td>-79.11392</td>\n",
       "      <td>33988</td>\n",
       "      <td>233</td>\n",
       "      <td>460</td>\n",
       "      <td>1:57</td>\n",
       "    </tr>\n",
       "    <tr>\n",
       "      <th>1</th>\n",
       "      <td>43.56900</td>\n",
       "      <td>-79.45749</td>\n",
       "      <td>8976</td>\n",
       "      <td>9</td>\n",
       "      <td>450</td>\n",
       "      <td>1:43</td>\n",
       "    </tr>\n",
       "    <tr>\n",
       "      <th>2</th>\n",
       "      <td>41.18341</td>\n",
       "      <td>-77.38996</td>\n",
       "      <td>35997</td>\n",
       "      <td>240</td>\n",
       "      <td>450</td>\n",
       "      <td>2:40</td>\n",
       "    </tr>\n",
       "    <tr>\n",
       "      <th>3</th>\n",
       "      <td>53.09648</td>\n",
       "      <td>-36.42069</td>\n",
       "      <td>32598</td>\n",
       "      <td>90</td>\n",
       "      <td>450</td>\n",
       "      <td>5:34</td>\n",
       "    </tr>\n",
       "    <tr>\n",
       "      <th>4</th>\n",
       "      <td>37.46615</td>\n",
       "      <td>-79.57410</td>\n",
       "      <td>36030</td>\n",
       "      <td>237</td>\n",
       "      <td>448</td>\n",
       "      <td>1:34</td>\n",
       "    </tr>\n",
       "    <tr>\n",
       "      <th>...</th>\n",
       "      <td>...</td>\n",
       "      <td>...</td>\n",
       "      <td>...</td>\n",
       "      <td>...</td>\n",
       "      <td>...</td>\n",
       "      <td>...</td>\n",
       "    </tr>\n",
       "    <tr>\n",
       "      <th>127</th>\n",
       "      <td>54.15176</td>\n",
       "      <td>-113.65211</td>\n",
       "      <td>32597</td>\n",
       "      <td>121</td>\n",
       "      <td>450</td>\n",
       "      <td>5:38</td>\n",
       "    </tr>\n",
       "    <tr>\n",
       "      <th>128</th>\n",
       "      <td>37.46323</td>\n",
       "      <td>-88.50023</td>\n",
       "      <td>33869</td>\n",
       "      <td>303</td>\n",
       "      <td>472</td>\n",
       "      <td>6:19</td>\n",
       "    </tr>\n",
       "    <tr>\n",
       "      <th>129</th>\n",
       "      <td>37.50245</td>\n",
       "      <td>-122.14433</td>\n",
       "      <td>3019</td>\n",
       "      <td>339</td>\n",
       "      <td>449</td>\n",
       "      <td>1:31</td>\n",
       "    </tr>\n",
       "    <tr>\n",
       "      <th>130</th>\n",
       "      <td>45.22914</td>\n",
       "      <td>-123.35009</td>\n",
       "      <td>37430</td>\n",
       "      <td>185</td>\n",
       "      <td>458</td>\n",
       "      <td>1:41</td>\n",
       "    </tr>\n",
       "    <tr>\n",
       "      <th>131</th>\n",
       "      <td>40.34008</td>\n",
       "      <td>-111.88142</td>\n",
       "      <td>12443</td>\n",
       "      <td>322</td>\n",
       "      <td>450</td>\n",
       "      <td>2:30</td>\n",
       "    </tr>\n",
       "  </tbody>\n",
       "</table>\n",
       "<p>132 rows × 6 columns</p>\n",
       "</div>"
      ],
      "text/plain": [
       "       latitude  longitude  altitude  heading  filed_tas filed_time_enroute\n",
       "index                                                                      \n",
       "0      37.89221  -79.11392     33988      233        460               1:57\n",
       "1      43.56900  -79.45749      8976        9        450               1:43\n",
       "2      41.18341  -77.38996     35997      240        450               2:40\n",
       "3      53.09648  -36.42069     32598       90        450               5:34\n",
       "4      37.46615  -79.57410     36030      237        448               1:34\n",
       "...         ...        ...       ...      ...        ...                ...\n",
       "127    54.15176 -113.65211     32597      121        450               5:38\n",
       "128    37.46323  -88.50023     33869      303        472               6:19\n",
       "129    37.50245 -122.14433      3019      339        449               1:31\n",
       "130    45.22914 -123.35009     37430      185        458               1:41\n",
       "131    40.34008 -111.88142     12443      322        450               2:30\n",
       "\n",
       "[132 rows x 6 columns]"
      ]
     },
     "execution_count": 23,
     "metadata": {},
     "output_type": "execute_result"
    }
   ],
   "source": [
    "X"
   ]
  },
  {
   "cell_type": "code",
   "execution_count": 24,
   "id": "6956074d",
   "metadata": {},
   "outputs": [
    {
     "data": {
      "text/html": [
       "<div>\n",
       "<style scoped>\n",
       "    .dataframe tbody tr th:only-of-type {\n",
       "        vertical-align: middle;\n",
       "    }\n",
       "\n",
       "    .dataframe tbody tr th {\n",
       "        vertical-align: top;\n",
       "    }\n",
       "\n",
       "    .dataframe thead th {\n",
       "        text-align: right;\n",
       "    }\n",
       "</style>\n",
       "<table border=\"1\" class=\"dataframe\">\n",
       "  <thead>\n",
       "    <tr style=\"text-align: right;\">\n",
       "      <th></th>\n",
       "      <th>ground_speed</th>\n",
       "    </tr>\n",
       "    <tr>\n",
       "      <th>index</th>\n",
       "      <th></th>\n",
       "    </tr>\n",
       "  </thead>\n",
       "  <tbody>\n",
       "    <tr>\n",
       "      <th>0</th>\n",
       "      <td>413</td>\n",
       "    </tr>\n",
       "    <tr>\n",
       "      <th>1</th>\n",
       "      <td>265</td>\n",
       "    </tr>\n",
       "    <tr>\n",
       "      <th>2</th>\n",
       "      <td>412</td>\n",
       "    </tr>\n",
       "    <tr>\n",
       "      <th>3</th>\n",
       "      <td>499</td>\n",
       "    </tr>\n",
       "    <tr>\n",
       "      <th>4</th>\n",
       "      <td>398</td>\n",
       "    </tr>\n",
       "    <tr>\n",
       "      <th>...</th>\n",
       "      <td>...</td>\n",
       "    </tr>\n",
       "    <tr>\n",
       "      <th>127</th>\n",
       "      <td>550</td>\n",
       "    </tr>\n",
       "    <tr>\n",
       "      <th>128</th>\n",
       "      <td>370</td>\n",
       "    </tr>\n",
       "    <tr>\n",
       "      <th>129</th>\n",
       "      <td>142</td>\n",
       "    </tr>\n",
       "    <tr>\n",
       "      <th>130</th>\n",
       "      <td>507</td>\n",
       "    </tr>\n",
       "    <tr>\n",
       "      <th>131</th>\n",
       "      <td>283</td>\n",
       "    </tr>\n",
       "  </tbody>\n",
       "</table>\n",
       "<p>132 rows × 1 columns</p>\n",
       "</div>"
      ],
      "text/plain": [
       "       ground_speed\n",
       "index              \n",
       "0               413\n",
       "1               265\n",
       "2               412\n",
       "3               499\n",
       "4               398\n",
       "...             ...\n",
       "127             550\n",
       "128             370\n",
       "129             142\n",
       "130             507\n",
       "131             283\n",
       "\n",
       "[132 rows x 1 columns]"
      ]
     },
     "execution_count": 24,
     "metadata": {},
     "output_type": "execute_result"
    }
   ],
   "source": [
    "Y"
   ]
  },
  {
   "cell_type": "code",
   "execution_count": 25,
   "id": "26b4bcba",
   "metadata": {},
   "outputs": [
    {
     "data": {
      "text/plain": [
       "ground_speed    int64\n",
       "dtype: object"
      ]
     },
     "execution_count": 25,
     "metadata": {},
     "output_type": "execute_result"
    }
   ],
   "source": [
    "Y.dtypes"
   ]
  },
  {
   "cell_type": "code",
   "execution_count": 26,
   "id": "85c38cba",
   "metadata": {},
   "outputs": [
    {
     "data": {
      "text/plain": [
       "latitude              float64\n",
       "longitude             float64\n",
       "altitude                int64\n",
       "heading                 int64\n",
       "filed_tas               int64\n",
       "filed_time_enroute     object\n",
       "dtype: object"
      ]
     },
     "execution_count": 26,
     "metadata": {},
     "output_type": "execute_result"
    }
   ],
   "source": [
    "X.dtypes"
   ]
  },
  {
   "cell_type": "code",
   "execution_count": 27,
   "id": "10fe59e3",
   "metadata": {},
   "outputs": [
    {
     "name": "stdout",
     "output_type": "stream",
     "text": [
      "X dataset size is (132, 6) and Y dataset size is (132, 1)\n"
     ]
    }
   ],
   "source": [
    "print(f'X dataset size is {X.shape} and Y dataset size is {Y.shape}')"
   ]
  },
  {
   "cell_type": "code",
   "execution_count": 28,
   "id": "c355756f",
   "metadata": {},
   "outputs": [],
   "source": [
    "# The time_logon which indicates the flight time duration appears to be in hour and minutes. Let's convert to strictly hour for easy scaling"
   ]
  },
  {
   "cell_type": "code",
   "execution_count": 29,
   "id": "058742ac",
   "metadata": {},
   "outputs": [
    {
     "name": "stderr",
     "output_type": "stream",
     "text": [
      "C:\\Users\\Mubaraq\\AppData\\Local\\Temp\\ipykernel_14956\\276689176.py:1: SettingWithCopyWarning: \n",
      "A value is trying to be set on a copy of a slice from a DataFrame.\n",
      "Try using .loc[row_indexer,col_indexer] = value instead\n",
      "\n",
      "See the caveats in the documentation: https://pandas.pydata.org/pandas-docs/stable/user_guide/indexing.html#returning-a-view-versus-a-copy\n",
      "  X['filed_time_enroute']=round(X['filed_time_enroute'].apply(lambda x: int(x.split(':')[0]) + int(x.split(':')[1])/60),2)\n"
     ]
    },
    {
     "data": {
      "text/plain": [
       "index\n",
       "0      1.95\n",
       "1      1.72\n",
       "2      2.67\n",
       "3      5.57\n",
       "4      1.57\n",
       "       ... \n",
       "127    5.63\n",
       "128    6.32\n",
       "129    1.52\n",
       "130    1.68\n",
       "131    2.50\n",
       "Name: filed_time_enroute, Length: 132, dtype: float64"
      ]
     },
     "execution_count": 29,
     "metadata": {},
     "output_type": "execute_result"
    }
   ],
   "source": [
    "X['filed_time_enroute']=round(X['filed_time_enroute'].apply(lambda x: int(x.split(':')[0]) + int(x.split(':')[1])/60),2)\n",
    "X['filed_time_enroute']"
   ]
  },
  {
   "cell_type": "code",
   "execution_count": 30,
   "id": "7ecf10d9-d928-471a-9a18-f5b80738b50d",
   "metadata": {},
   "outputs": [
    {
     "name": "stderr",
     "output_type": "stream",
     "text": [
      "C:\\Users\\Mubaraq\\AppData\\Local\\Temp\\ipykernel_14956\\1627146334.py:1: SettingWithCopyWarning: \n",
      "A value is trying to be set on a copy of a slice from a DataFrame.\n",
      "Try using .loc[row_indexer,col_indexer] = value instead\n",
      "\n",
      "See the caveats in the documentation: https://pandas.pydata.org/pandas-docs/stable/user_guide/indexing.html#returning-a-view-versus-a-copy\n",
      "  X['filed_time_enroute']=round(X['filed_time_enroute'],2)\n"
     ]
    }
   ],
   "source": [
    "X['filed_time_enroute']=round(X['filed_time_enroute'],2)"
   ]
  },
  {
   "cell_type": "code",
   "execution_count": 31,
   "id": "752b9e18",
   "metadata": {},
   "outputs": [
    {
     "data": {
      "text/plain": [
       "dtype('float64')"
      ]
     },
     "execution_count": 31,
     "metadata": {},
     "output_type": "execute_result"
    }
   ],
   "source": [
    "X['filed_time_enroute'].dtypes"
   ]
  },
  {
   "cell_type": "code",
   "execution_count": 32,
   "id": "f24cdd41",
   "metadata": {},
   "outputs": [
    {
     "data": {
      "text/html": [
       "<div>\n",
       "<style scoped>\n",
       "    .dataframe tbody tr th:only-of-type {\n",
       "        vertical-align: middle;\n",
       "    }\n",
       "\n",
       "    .dataframe tbody tr th {\n",
       "        vertical-align: top;\n",
       "    }\n",
       "\n",
       "    .dataframe thead th {\n",
       "        text-align: right;\n",
       "    }\n",
       "</style>\n",
       "<table border=\"1\" class=\"dataframe\">\n",
       "  <thead>\n",
       "    <tr style=\"text-align: right;\">\n",
       "      <th></th>\n",
       "      <th>latitude</th>\n",
       "      <th>longitude</th>\n",
       "      <th>altitude</th>\n",
       "      <th>heading</th>\n",
       "      <th>filed_tas</th>\n",
       "      <th>filed_time_enroute</th>\n",
       "    </tr>\n",
       "  </thead>\n",
       "  <tbody>\n",
       "    <tr>\n",
       "      <th>count</th>\n",
       "      <td>132.000000</td>\n",
       "      <td>132.000000</td>\n",
       "      <td>132.000000</td>\n",
       "      <td>132.000000</td>\n",
       "      <td>132.000000</td>\n",
       "      <td>132.000000</td>\n",
       "    </tr>\n",
       "    <tr>\n",
       "      <th>mean</th>\n",
       "      <td>37.933352</td>\n",
       "      <td>-87.214055</td>\n",
       "      <td>24641.742424</td>\n",
       "      <td>186.969697</td>\n",
       "      <td>417.030303</td>\n",
       "      <td>3.290227</td>\n",
       "    </tr>\n",
       "    <tr>\n",
       "      <th>std</th>\n",
       "      <td>9.773525</td>\n",
       "      <td>31.562466</td>\n",
       "      <td>14652.670478</td>\n",
       "      <td>99.909344</td>\n",
       "      <td>98.600585</td>\n",
       "      <td>3.047075</td>\n",
       "    </tr>\n",
       "    <tr>\n",
       "      <th>min</th>\n",
       "      <td>-3.743200</td>\n",
       "      <td>-177.702470</td>\n",
       "      <td>12.000000</td>\n",
       "      <td>0.000000</td>\n",
       "      <td>0.000000</td>\n",
       "      <td>0.000000</td>\n",
       "    </tr>\n",
       "    <tr>\n",
       "      <th>25%</th>\n",
       "      <td>33.265710</td>\n",
       "      <td>-105.279320</td>\n",
       "      <td>8952.000000</td>\n",
       "      <td>101.750000</td>\n",
       "      <td>417.500000</td>\n",
       "      <td>1.420000</td>\n",
       "    </tr>\n",
       "    <tr>\n",
       "      <th>50%</th>\n",
       "      <td>38.933040</td>\n",
       "      <td>-85.445290</td>\n",
       "      <td>33445.000000</td>\n",
       "      <td>183.500000</td>\n",
       "      <td>450.000000</td>\n",
       "      <td>2.270000</td>\n",
       "    </tr>\n",
       "    <tr>\n",
       "      <th>75%</th>\n",
       "      <td>42.373280</td>\n",
       "      <td>-76.664580</td>\n",
       "      <td>36005.250000</td>\n",
       "      <td>262.000000</td>\n",
       "      <td>463.500000</td>\n",
       "      <td>4.102500</td>\n",
       "    </tr>\n",
       "    <tr>\n",
       "      <th>max</th>\n",
       "      <td>62.796730</td>\n",
       "      <td>165.927260</td>\n",
       "      <td>42000.000000</td>\n",
       "      <td>358.000000</td>\n",
       "      <td>560.000000</td>\n",
       "      <td>15.000000</td>\n",
       "    </tr>\n",
       "  </tbody>\n",
       "</table>\n",
       "</div>"
      ],
      "text/plain": [
       "         latitude   longitude      altitude     heading   filed_tas  \\\n",
       "count  132.000000  132.000000    132.000000  132.000000  132.000000   \n",
       "mean    37.933352  -87.214055  24641.742424  186.969697  417.030303   \n",
       "std      9.773525   31.562466  14652.670478   99.909344   98.600585   \n",
       "min     -3.743200 -177.702470     12.000000    0.000000    0.000000   \n",
       "25%     33.265710 -105.279320   8952.000000  101.750000  417.500000   \n",
       "50%     38.933040  -85.445290  33445.000000  183.500000  450.000000   \n",
       "75%     42.373280  -76.664580  36005.250000  262.000000  463.500000   \n",
       "max     62.796730  165.927260  42000.000000  358.000000  560.000000   \n",
       "\n",
       "       filed_time_enroute  \n",
       "count          132.000000  \n",
       "mean             3.290227  \n",
       "std              3.047075  \n",
       "min              0.000000  \n",
       "25%              1.420000  \n",
       "50%              2.270000  \n",
       "75%              4.102500  \n",
       "max             15.000000  "
      ]
     },
     "execution_count": 32,
     "metadata": {},
     "output_type": "execute_result"
    }
   ],
   "source": [
    "X.describe()"
   ]
  },
  {
   "cell_type": "code",
   "execution_count": 33,
   "id": "977da322",
   "metadata": {},
   "outputs": [
    {
     "data": {
      "text/html": [
       "<div>\n",
       "<style scoped>\n",
       "    .dataframe tbody tr th:only-of-type {\n",
       "        vertical-align: middle;\n",
       "    }\n",
       "\n",
       "    .dataframe tbody tr th {\n",
       "        vertical-align: top;\n",
       "    }\n",
       "\n",
       "    .dataframe thead th {\n",
       "        text-align: right;\n",
       "    }\n",
       "</style>\n",
       "<table border=\"1\" class=\"dataframe\">\n",
       "  <thead>\n",
       "    <tr style=\"text-align: right;\">\n",
       "      <th></th>\n",
       "      <th>ground_speed</th>\n",
       "    </tr>\n",
       "  </thead>\n",
       "  <tbody>\n",
       "    <tr>\n",
       "      <th>count</th>\n",
       "      <td>132.000000</td>\n",
       "    </tr>\n",
       "    <tr>\n",
       "      <th>mean</th>\n",
       "      <td>360.575758</td>\n",
       "    </tr>\n",
       "    <tr>\n",
       "      <th>std</th>\n",
       "      <td>180.798573</td>\n",
       "    </tr>\n",
       "    <tr>\n",
       "      <th>min</th>\n",
       "      <td>0.000000</td>\n",
       "    </tr>\n",
       "    <tr>\n",
       "      <th>25%</th>\n",
       "      <td>274.000000</td>\n",
       "    </tr>\n",
       "    <tr>\n",
       "      <th>50%</th>\n",
       "      <td>412.000000</td>\n",
       "    </tr>\n",
       "    <tr>\n",
       "      <th>75%</th>\n",
       "      <td>489.000000</td>\n",
       "    </tr>\n",
       "    <tr>\n",
       "      <th>max</th>\n",
       "      <td>643.000000</td>\n",
       "    </tr>\n",
       "  </tbody>\n",
       "</table>\n",
       "</div>"
      ],
      "text/plain": [
       "       ground_speed\n",
       "count    132.000000\n",
       "mean     360.575758\n",
       "std      180.798573\n",
       "min        0.000000\n",
       "25%      274.000000\n",
       "50%      412.000000\n",
       "75%      489.000000\n",
       "max      643.000000"
      ]
     },
     "execution_count": 33,
     "metadata": {},
     "output_type": "execute_result"
    }
   ],
   "source": [
    "Y.describe()"
   ]
  },
  {
   "cell_type": "code",
   "execution_count": 34,
   "id": "02376afd",
   "metadata": {},
   "outputs": [],
   "source": [
    "# checking the correlation of each of the relevant features against the target variable to see the most relevant features for prediction \n",
    "# and also to detect for multicollinearities between the X features"
   ]
  },
  {
   "cell_type": "code",
   "execution_count": 35,
   "id": "34c80171",
   "metadata": {},
   "outputs": [
    {
     "data": {
      "text/html": [
       "<div>\n",
       "<style scoped>\n",
       "    .dataframe tbody tr th:only-of-type {\n",
       "        vertical-align: middle;\n",
       "    }\n",
       "\n",
       "    .dataframe tbody tr th {\n",
       "        vertical-align: top;\n",
       "    }\n",
       "\n",
       "    .dataframe thead th {\n",
       "        text-align: right;\n",
       "    }\n",
       "</style>\n",
       "<table border=\"1\" class=\"dataframe\">\n",
       "  <thead>\n",
       "    <tr style=\"text-align: right;\">\n",
       "      <th></th>\n",
       "      <th>latitude</th>\n",
       "      <th>longitude</th>\n",
       "      <th>altitude</th>\n",
       "      <th>heading</th>\n",
       "      <th>filed_tas</th>\n",
       "      <th>filed_time_enroute</th>\n",
       "      <th>ground_speed</th>\n",
       "    </tr>\n",
       "  </thead>\n",
       "  <tbody>\n",
       "    <tr>\n",
       "      <th>latitude</th>\n",
       "      <td>1.000000</td>\n",
       "      <td>0.132281</td>\n",
       "      <td>-0.063491</td>\n",
       "      <td>-0.083980</td>\n",
       "      <td>-0.092545</td>\n",
       "      <td>0.175825</td>\n",
       "      <td>-0.033504</td>\n",
       "    </tr>\n",
       "    <tr>\n",
       "      <th>longitude</th>\n",
       "      <td>0.132281</td>\n",
       "      <td>1.000000</td>\n",
       "      <td>0.037101</td>\n",
       "      <td>0.008391</td>\n",
       "      <td>-0.034273</td>\n",
       "      <td>0.303080</td>\n",
       "      <td>0.006320</td>\n",
       "    </tr>\n",
       "    <tr>\n",
       "      <th>altitude</th>\n",
       "      <td>-0.063491</td>\n",
       "      <td>0.037101</td>\n",
       "      <td>1.000000</td>\n",
       "      <td>0.177129</td>\n",
       "      <td>0.537593</td>\n",
       "      <td>0.367451</td>\n",
       "      <td>0.904279</td>\n",
       "    </tr>\n",
       "    <tr>\n",
       "      <th>heading</th>\n",
       "      <td>-0.083980</td>\n",
       "      <td>0.008391</td>\n",
       "      <td>0.177129</td>\n",
       "      <td>1.000000</td>\n",
       "      <td>0.142129</td>\n",
       "      <td>0.173860</td>\n",
       "      <td>0.004148</td>\n",
       "    </tr>\n",
       "    <tr>\n",
       "      <th>filed_tas</th>\n",
       "      <td>-0.092545</td>\n",
       "      <td>-0.034273</td>\n",
       "      <td>0.537593</td>\n",
       "      <td>0.142129</td>\n",
       "      <td>1.000000</td>\n",
       "      <td>0.324204</td>\n",
       "      <td>0.550439</td>\n",
       "    </tr>\n",
       "    <tr>\n",
       "      <th>filed_time_enroute</th>\n",
       "      <td>0.175825</td>\n",
       "      <td>0.303080</td>\n",
       "      <td>0.367451</td>\n",
       "      <td>0.173860</td>\n",
       "      <td>0.324204</td>\n",
       "      <td>1.000000</td>\n",
       "      <td>0.317955</td>\n",
       "    </tr>\n",
       "    <tr>\n",
       "      <th>ground_speed</th>\n",
       "      <td>-0.033504</td>\n",
       "      <td>0.006320</td>\n",
       "      <td>0.904279</td>\n",
       "      <td>0.004148</td>\n",
       "      <td>0.550439</td>\n",
       "      <td>0.317955</td>\n",
       "      <td>1.000000</td>\n",
       "    </tr>\n",
       "  </tbody>\n",
       "</table>\n",
       "</div>"
      ],
      "text/plain": [
       "                    latitude  longitude  altitude   heading  filed_tas  \\\n",
       "latitude            1.000000   0.132281 -0.063491 -0.083980  -0.092545   \n",
       "longitude           0.132281   1.000000  0.037101  0.008391  -0.034273   \n",
       "altitude           -0.063491   0.037101  1.000000  0.177129   0.537593   \n",
       "heading            -0.083980   0.008391  0.177129  1.000000   0.142129   \n",
       "filed_tas          -0.092545  -0.034273  0.537593  0.142129   1.000000   \n",
       "filed_time_enroute  0.175825   0.303080  0.367451  0.173860   0.324204   \n",
       "ground_speed       -0.033504   0.006320  0.904279  0.004148   0.550439   \n",
       "\n",
       "                    filed_time_enroute  ground_speed  \n",
       "latitude                      0.175825     -0.033504  \n",
       "longitude                     0.303080      0.006320  \n",
       "altitude                      0.367451      0.904279  \n",
       "heading                       0.173860      0.004148  \n",
       "filed_tas                     0.324204      0.550439  \n",
       "filed_time_enroute            1.000000      0.317955  \n",
       "ground_speed                  0.317955      1.000000  "
      ]
     },
     "execution_count": 35,
     "metadata": {},
     "output_type": "execute_result"
    }
   ],
   "source": [
    "Corr=X.join(Y) # joining the dataset to view in its correlation matrix\n",
    "Corr.corr()"
   ]
  },
  {
   "cell_type": "code",
   "execution_count": 36,
   "id": "78511499",
   "metadata": {},
   "outputs": [
    {
     "data": {
      "text/plain": [
       "[]"
      ]
     },
     "execution_count": 36,
     "metadata": {},
     "output_type": "execute_result"
    },
    {
     "data": {
      "image/png": "[encoded data removed]",
      "text/plain": [
       "<Figure size 640x480 with 2 Axes>"
      ]
     },
     "metadata": {},
     "output_type": "display_data"
    }
   ],
   "source": [
    "correlation_matrix=Corr.corr()\n",
    "sns.heatmap(correlation_matrix, annot=True)\n",
    "plt.plot()"
   ]
  },
  {
   "cell_type": "markdown",
   "id": "ac35a9ff-1abd-44e1-8075-4c0ff66cb14d",
   "metadata": {},
   "source": [
    "No multicollinearity found."
   ]
  },
  {
   "cell_type": "code",
   "execution_count": 37,
   "id": "5208a99a",
   "metadata": {},
   "outputs": [
    {
     "data": {
      "image/png": "[encoded data removed]",
      "text/plain": [
       "<Figure size 1500x500 with 3 Axes>"
      ]
     },
     "metadata": {},
     "output_type": "display_data"
    },
    {
     "data": {
      "image/png": "[encoded data removed]",
      "text/plain": [
       "<Figure size 1500x500 with 3 Axes>"
      ]
     },
     "metadata": {},
     "output_type": "display_data"
    }
   ],
   "source": [
    "# An overview of the target variables to each of the features\n",
    "# Scatter plot for the features vs Ground speed\n",
    "fig, axs = plt.subplots(1, 3, figsize=(15, 5))  # Adjust figsize as needed\n",
    "\n",
    "for j,i in zip(X.columns,range(3)):\n",
    "    sns.regplot(x=X[j], y=Y,marker='+', ax=axs[i])\n",
    "    axs[i].set_title(f'Ground_speed vs {j}')\n",
    "\n",
    "fig, axs = plt.subplots(1, 3, figsize=(15, 5))  # Adjust figsize as needed\n",
    "\n",
    "for j,i in zip(X.columns[3:6],range(3)):\n",
    "    sns.regplot(x=X[j], y=Y,marker='+', ax=axs[i-3])\n",
    "    axs[i-3].set_title(f'Ground_speed vs {j}')\n",
    "\n",
    "# Adjust layout\n",
    "plt.tight_layout()\n",
    "plt.show()"
   ]
  },
  {
   "cell_type": "code",
   "execution_count": 38,
   "id": "c31ee958",
   "metadata": {},
   "outputs": [],
   "source": [
    "X_train, X_test, Y_train, Y_test=train_test_split(X, Y, test_size=0.25, random_state=22)"
   ]
  },
  {
   "cell_type": "code",
   "execution_count": 39,
   "id": "bbaebade",
   "metadata": {},
   "outputs": [
    {
     "data": {
      "text/html": [
       "<div>\n",
       "<style scoped>\n",
       "    .dataframe tbody tr th:only-of-type {\n",
       "        vertical-align: middle;\n",
       "    }\n",
       "\n",
       "    .dataframe tbody tr th {\n",
       "        vertical-align: top;\n",
       "    }\n",
       "\n",
       "    .dataframe thead th {\n",
       "        text-align: right;\n",
       "    }\n",
       "</style>\n",
       "<table border=\"1\" class=\"dataframe\">\n",
       "  <thead>\n",
       "    <tr style=\"text-align: right;\">\n",
       "      <th></th>\n",
       "      <th>latitude</th>\n",
       "      <th>longitude</th>\n",
       "      <th>altitude</th>\n",
       "      <th>heading</th>\n",
       "      <th>filed_tas</th>\n",
       "      <th>filed_time_enroute</th>\n",
       "    </tr>\n",
       "    <tr>\n",
       "      <th>index</th>\n",
       "      <th></th>\n",
       "      <th></th>\n",
       "      <th></th>\n",
       "      <th></th>\n",
       "      <th></th>\n",
       "      <th></th>\n",
       "    </tr>\n",
       "  </thead>\n",
       "  <tbody>\n",
       "    <tr>\n",
       "      <th>4</th>\n",
       "      <td>37.46615</td>\n",
       "      <td>-79.57410</td>\n",
       "      <td>36030</td>\n",
       "      <td>237</td>\n",
       "      <td>448</td>\n",
       "      <td>1.57</td>\n",
       "    </tr>\n",
       "    <tr>\n",
       "      <th>76</th>\n",
       "      <td>37.03123</td>\n",
       "      <td>-94.21953</td>\n",
       "      <td>34872</td>\n",
       "      <td>110</td>\n",
       "      <td>447</td>\n",
       "      <td>2.07</td>\n",
       "    </tr>\n",
       "    <tr>\n",
       "      <th>36</th>\n",
       "      <td>42.73023</td>\n",
       "      <td>-70.30596</td>\n",
       "      <td>38564</td>\n",
       "      <td>48</td>\n",
       "      <td>450</td>\n",
       "      <td>0.00</td>\n",
       "    </tr>\n",
       "    <tr>\n",
       "      <th>43</th>\n",
       "      <td>22.53381</td>\n",
       "      <td>-79.10226</td>\n",
       "      <td>33134</td>\n",
       "      <td>187</td>\n",
       "      <td>495</td>\n",
       "      <td>7.53</td>\n",
       "    </tr>\n",
       "    <tr>\n",
       "      <th>15</th>\n",
       "      <td>40.34008</td>\n",
       "      <td>-111.88142</td>\n",
       "      <td>12443</td>\n",
       "      <td>322</td>\n",
       "      <td>450</td>\n",
       "      <td>2.50</td>\n",
       "    </tr>\n",
       "    <tr>\n",
       "      <th>...</th>\n",
       "      <td>...</td>\n",
       "      <td>...</td>\n",
       "      <td>...</td>\n",
       "      <td>...</td>\n",
       "      <td>...</td>\n",
       "      <td>...</td>\n",
       "    </tr>\n",
       "    <tr>\n",
       "      <th>118</th>\n",
       "      <td>46.03685</td>\n",
       "      <td>-123.10462</td>\n",
       "      <td>39448</td>\n",
       "      <td>181</td>\n",
       "      <td>449</td>\n",
       "      <td>1.45</td>\n",
       "    </tr>\n",
       "    <tr>\n",
       "      <th>102</th>\n",
       "      <td>35.04831</td>\n",
       "      <td>-116.46718</td>\n",
       "      <td>25032</td>\n",
       "      <td>43</td>\n",
       "      <td>410</td>\n",
       "      <td>1.25</td>\n",
       "    </tr>\n",
       "    <tr>\n",
       "      <th>100</th>\n",
       "      <td>43.27697</td>\n",
       "      <td>-88.21099</td>\n",
       "      <td>36939</td>\n",
       "      <td>104</td>\n",
       "      <td>440</td>\n",
       "      <td>2.13</td>\n",
       "    </tr>\n",
       "    <tr>\n",
       "      <th>44</th>\n",
       "      <td>56.33476</td>\n",
       "      <td>-106.48148</td>\n",
       "      <td>33287</td>\n",
       "      <td>312</td>\n",
       "      <td>480</td>\n",
       "      <td>12.58</td>\n",
       "    </tr>\n",
       "    <tr>\n",
       "      <th>117</th>\n",
       "      <td>42.70351</td>\n",
       "      <td>-122.95213</td>\n",
       "      <td>34436</td>\n",
       "      <td>173</td>\n",
       "      <td>484</td>\n",
       "      <td>1.80</td>\n",
       "    </tr>\n",
       "  </tbody>\n",
       "</table>\n",
       "<p>99 rows × 6 columns</p>\n",
       "</div>"
      ],
      "text/plain": [
       "       latitude  longitude  altitude  heading  filed_tas  filed_time_enroute\n",
       "index                                                                       \n",
       "4      37.46615  -79.57410     36030      237        448                1.57\n",
       "76     37.03123  -94.21953     34872      110        447                2.07\n",
       "36     42.73023  -70.30596     38564       48        450                0.00\n",
       "43     22.53381  -79.10226     33134      187        495                7.53\n",
       "15     40.34008 -111.88142     12443      322        450                2.50\n",
       "...         ...        ...       ...      ...        ...                 ...\n",
       "118    46.03685 -123.10462     39448      181        449                1.45\n",
       "102    35.04831 -116.46718     25032       43        410                1.25\n",
       "100    43.27697  -88.21099     36939      104        440                2.13\n",
       "44     56.33476 -106.48148     33287      312        480               12.58\n",
       "117    42.70351 -122.95213     34436      173        484                1.80\n",
       "\n",
       "[99 rows x 6 columns]"
      ]
     },
     "execution_count": 39,
     "metadata": {},
     "output_type": "execute_result"
    }
   ],
   "source": [
    "X_train"
   ]
  },
  {
   "cell_type": "markdown",
   "id": "0b608d0b-71d5-4c19-81eb-9d298b70f768",
   "metadata": {},
   "source": [
    "From our dataset, some values in the columns are large in comparison to the others which leads to lots of time taken for it to converge to its global minima. So let's employ normalization using the sklearn library"
   ]
  },
  {
   "cell_type": "markdown",
   "id": "daf70f0c",
   "metadata": {},
   "source": [
    "## Data Preprocessing /Standardization/ Feature Engineering"
   ]
  },
  {
   "cell_type": "code",
   "execution_count": 40,
   "id": "7ac2a9ca",
   "metadata": {},
   "outputs": [],
   "source": [
    "# normalizing the features because their different ranges and to lead to converging faster and improve model performance."
   ]
  },
  {
   "cell_type": "code",
   "execution_count": 41,
   "id": "aaee7d1d",
   "metadata": {},
   "outputs": [],
   "source": [
    "\n",
    "# this because certain machine learning algorithms are sensitive to the scale of input features If the features have different scales.....\n",
    "# .....features with larger scales may dominate the prediction process, leading to inaccurate results and we need to prevent that :)"
   ]
  },
  {
   "cell_type": "code",
   "execution_count": 42,
   "id": "9eddfc12",
   "metadata": {},
   "outputs": [],
   "source": [
    "# Standardize the features\n",
    "scaler= StandardScaler()"
   ]
  },
  {
   "cell_type": "code",
   "execution_count": 43,
   "id": "fec837ac",
   "metadata": {},
   "outputs": [],
   "source": [
    "X_train_scaled=scaler.fit_transform(X_train)"
   ]
  },
  {
   "cell_type": "code",
   "execution_count": 44,
   "id": "56123f86",
   "metadata": {},
   "outputs": [],
   "source": [
    "X_test_scaled=scaler.transform(X_test)"
   ]
  },
  {
   "cell_type": "code",
   "execution_count": 45,
   "id": "abed324f",
   "metadata": {},
   "outputs": [
    {
     "data": {
      "text/plain": [
       "array([[-0.07443381,  0.20571965,  0.79719667,  0.49997604,  0.33155259,\n",
       "        -0.50110736],\n",
       "       [-0.12027393, -0.21676876,  0.71931464, -0.73697768,  0.3212404 ,\n",
       "        -0.33765971],\n",
       "       [ 0.48039477,  0.47308509,  0.96762245, -1.34084485,  0.35217698,\n",
       "        -1.01433295],\n",
       "       [-1.64828699,  0.2193312 ,  0.60242435,  0.01298639,  0.81622561,\n",
       "         1.44718854],\n",
       "       [ 0.22847543, -0.7262754 , -0.789162  ,  1.32785845,  0.35217698,\n",
       "        -0.19709474]])"
      ]
     },
     "execution_count": 45,
     "metadata": {},
     "output_type": "execute_result"
    }
   ],
   "source": [
    "pd.reset_option('display.max_columns') \n",
    "X_train_scaled[:5]"
   ]
  },
  {
   "cell_type": "code",
   "execution_count": 46,
   "id": "4f124aab",
   "metadata": {},
   "outputs": [
    {
     "data": {
      "text/plain": [
       "array([[ 0.48799193,  0.03888476,  0.62334085,  0.73373108, -1.60713947,\n",
       "        -0.0892193 ],\n",
       "       [ 0.10583425,  0.2896529 , -1.61600278,  0.26622101, -4.28830936,\n",
       "        -0.29516333],\n",
       "       [ 0.22847543, -0.7262754 , -0.789162  ,  1.32785845,  0.35217698,\n",
       "        -0.19709474],\n",
       "       [ 0.37445405,  0.44045332, -1.62178676,  1.1233228 ,  0.27999163,\n",
       "        -0.40303877],\n",
       "       [-0.3709327 ,  0.03634875,  0.17124847, -0.35712575,  0.39342574,\n",
       "        -0.36054238]])"
      ]
     },
     "execution_count": 46,
     "metadata": {},
     "output_type": "execute_result"
    }
   ],
   "source": [
    "X_test_scaled[:5]"
   ]
  },
  {
   "cell_type": "markdown",
   "id": "f2bb4f4b-1e14-447e-bedd-1e655ca790dc",
   "metadata": {},
   "source": [
    "## Using the Linear Regression model "
   ]
  },
  {
   "cell_type": "code",
   "execution_count": 47,
   "id": "a0cf4331",
   "metadata": {},
   "outputs": [],
   "source": [
    "Lr=LinearRegression()"
   ]
  },
  {
   "cell_type": "code",
   "execution_count": 48,
   "id": "5863f5de-0e29-424a-81ea-880c832a854a",
   "metadata": {
    "scrolled": true
   },
   "outputs": [
    {
     "data": {
      "text/plain": [
       "Index(['latitude', 'longitude', 'altitude', 'heading', 'filed_tas',\n",
       "       'filed_time_enroute'],\n",
       "      dtype='object')"
      ]
     },
     "execution_count": 48,
     "metadata": {},
     "output_type": "execute_result"
    }
   ],
   "source": [
    "X_train.columns"
   ]
  },
  {
   "cell_type": "code",
   "execution_count": 49,
   "id": "057034ab",
   "metadata": {},
   "outputs": [
    {
     "data": {
      "text/html": [
       "<style>#sk-container-id-1 {color: black;background-color: white;}#sk-container-id-1 pre{padding: 0;}#sk-container-id-1 div.sk-toggleable {background-color: white;}#sk-container-id-1 label.sk-toggleable__label {cursor: pointer;display: block;width: 100%;margin-bottom: 0;padding: 0.3em;box-sizing: border-box;text-align: center;}#sk-container-id-1 label.sk-toggleable__label-arrow:before {content: \"▸\";float: left;margin-right: 0.25em;color: #696969;}#sk-container-id-1 label.sk-toggleable__label-arrow:hover:before {color: black;}#sk-container-id-1 div.sk-estimator:hover label.sk-toggleable__label-arrow:before {color: black;}#sk-container-id-1 div.sk-toggleable__content {max-height: 0;max-width: 0;overflow: hidden;text-align: left;background-color: #f0f8ff;}#sk-container-id-1 div.sk-toggleable__content pre {margin: 0.2em;color: black;border-radius: 0.25em;background-color: #f0f8ff;}#sk-container-id-1 input.sk-toggleable__control:checked~div.sk-toggleable__content {max-height: 200px;max-width: 100%;overflow: auto;}#sk-container-id-1 input.sk-toggleable__control:checked~label.sk-toggleable__label-arrow:before {content: \"▾\";}#sk-container-id-1 div.sk-estimator input.sk-toggleable__control:checked~label.sk-toggleable__label {background-color: #d4ebff;}#sk-container-id-1 div.sk-label input.sk-toggleable__control:checked~label.sk-toggleable__label {background-color: #d4ebff;}#sk-container-id-1 input.sk-hidden--visually {border: 0;clip: rect(1px 1px 1px 1px);clip: rect(1px, 1px, 1px, 1px);height: 1px;margin: -1px;overflow: hidden;padding: 0;position: absolute;width: 1px;}#sk-container-id-1 div.sk-estimator {font-family: monospace;background-color: #f0f8ff;border: 1px dotted black;border-radius: 0.25em;box-sizing: border-box;margin-bottom: 0.5em;}#sk-container-id-1 div.sk-estimator:hover {background-color: #d4ebff;}#sk-container-id-1 div.sk-parallel-item::after {content: \"\";width: 100%;border-bottom: 1px solid gray;flex-grow: 1;}#sk-container-id-1 div.sk-label:hover label.sk-toggleable__label {background-color: #d4ebff;}#sk-container-id-1 div.sk-serial::before {content: \"\";position: absolute;border-left: 1px solid gray;box-sizing: border-box;top: 0;bottom: 0;left: 50%;z-index: 0;}#sk-container-id-1 div.sk-serial {display: flex;flex-direction: column;align-items: center;background-color: white;padding-right: 0.2em;padding-left: 0.2em;position: relative;}#sk-container-id-1 div.sk-item {position: relative;z-index: 1;}#sk-container-id-1 div.sk-parallel {display: flex;align-items: stretch;justify-content: center;background-color: white;position: relative;}#sk-container-id-1 div.sk-item::before, #sk-container-id-1 div.sk-parallel-item::before {content: \"\";position: absolute;border-left: 1px solid gray;box-sizing: border-box;top: 0;bottom: 0;left: 50%;z-index: -1;}#sk-container-id-1 div.sk-parallel-item {display: flex;flex-direction: column;z-index: 1;position: relative;background-color: white;}#sk-container-id-1 div.sk-parallel-item:first-child::after {align-self: flex-end;width: 50%;}#sk-container-id-1 div.sk-parallel-item:last-child::after {align-self: flex-start;width: 50%;}#sk-container-id-1 div.sk-parallel-item:only-child::after {width: 0;}#sk-container-id-1 div.sk-dashed-wrapped {border: 1px dashed gray;margin: 0 0.4em 0.5em 0.4em;box-sizing: border-box;padding-bottom: 0.4em;background-color: white;}#sk-container-id-1 div.sk-label label {font-family: monospace;font-weight: bold;display: inline-block;line-height: 1.2em;}#sk-container-id-1 div.sk-label-container {text-align: center;}#sk-container-id-1 div.sk-container {/* jupyter's `normalize.less` sets `[hidden] { display: none; }` but bootstrap.min.css set `[hidden] { display: none !important; }` so we also need the `!important` here to be able to override the default hidden behavior on the sphinx rendered scikit-learn.org. See: https://github.com/scikit-learn/scikit-learn/issues/21755 */display: inline-block !important;position: relative;}#sk-container-id-1 div.sk-text-repr-fallback {display: none;}</style><div id=\"sk-container-id-1\" class=\"sk-top-container\"><div class=\"sk-text-repr-fallback\"><pre>LinearRegression()</pre><b>In a Jupyter environment, please rerun this cell to show the HTML representation or trust the notebook. <br />On GitHub, the HTML representation is unable to render, please try loading this page with nbviewer.org.</b></div><div class=\"sk-container\" hidden><div class=\"sk-item\"><div class=\"sk-estimator sk-toggleable\"><input class=\"sk-toggleable__control sk-hidden--visually\" id=\"sk-estimator-id-1\" type=\"checkbox\" checked><label for=\"sk-estimator-id-1\" class=\"sk-toggleable__label sk-toggleable__label-arrow\">LinearRegression</label><div class=\"sk-toggleable__content\"><pre>LinearRegression()</pre></div></div></div></div></div>"
      ],
      "text/plain": [
       "LinearRegression()"
      ]
     },
     "execution_count": 49,
     "metadata": {},
     "output_type": "execute_result"
    }
   ],
   "source": [
    "Lr.fit(X_train_scaled,Y_train) # i.e. getting your weight and bias"
   ]
  },
  {
   "cell_type": "code",
   "execution_count": 50,
   "id": "7f8d2719",
   "metadata": {},
   "outputs": [
    {
     "data": {
      "text/plain": [
       "array([348.97979798])"
      ]
     },
     "execution_count": 50,
     "metadata": {},
     "output_type": "execute_result"
    }
   ],
   "source": [
    "Lr.intercept_ # getting the value of the intercept for the model based on the training dataset"
   ]
  },
  {
   "cell_type": "code",
   "execution_count": 51,
   "id": "5317a6e0",
   "metadata": {},
   "outputs": [
    {
     "data": {
      "text/plain": [
       "array([[  6.11670562,  -3.55764447, 159.77662418, -24.61482612,\n",
       "         21.39676844,  -2.73954955]])"
      ]
     },
     "execution_count": 51,
     "metadata": {},
     "output_type": "execute_result"
    }
   ],
   "source": [
    "Lr.coef_ # getting the value of the coefficient for the model based on the training dataset"
   ]
  },
  {
   "cell_type": "code",
   "execution_count": 52,
   "id": "9e68ea6f-2159-464f-9ace-c2e1d6c23d95",
   "metadata": {},
   "outputs": [
    {
     "data": {
      "text/plain": [
       "(99, 6)"
      ]
     },
     "execution_count": 52,
     "metadata": {},
     "output_type": "execute_result"
    }
   ],
   "source": [
    "X_train_scaled.shape"
   ]
  },
  {
   "cell_type": "code",
   "execution_count": 53,
   "id": "9bede0a2",
   "metadata": {},
   "outputs": [
    {
     "data": {
      "text/plain": [
       "array([[471.32616239],\n",
       "       [489.88408855],\n",
       "       [548.15753827],\n",
       "       [447.55102591],\n",
       "       [202.26189979],\n",
       "       [ 99.39866185],\n",
       "       [489.88408855],\n",
       "       [200.1838256 ],\n",
       "       [ 96.79797369],\n",
       "       [432.65441851]])"
      ]
     },
     "execution_count": 53,
     "metadata": {},
     "output_type": "execute_result"
    }
   ],
   "source": [
    "Y_pred_train = Lr.predict(X_train_scaled)\n",
    "Y_pred_train[:10]"
   ]
  },
  {
   "cell_type": "code",
   "execution_count": 54,
   "id": "c70ea4e8",
   "metadata": {},
   "outputs": [
    {
     "data": {
      "text/plain": [
       "4885.029823950244"
      ]
     },
     "execution_count": 54,
     "metadata": {},
     "output_type": "execute_result"
    }
   ],
   "source": [
    "mean_squared_error(Y_train, Y_pred_train) # check for errors"
   ]
  },
  {
   "cell_type": "code",
   "execution_count": 55,
   "id": "60f8f32e",
   "metadata": {},
   "outputs": [
    {
     "data": {
      "text/plain": [
       "58.04729416742224"
      ]
     },
     "execution_count": 55,
     "metadata": {},
     "output_type": "execute_result"
    }
   ],
   "source": [
    "mean_absolute_error(Y_train, Y_pred_train) # check for errors"
   ]
  },
  {
   "cell_type": "code",
   "execution_count": 56,
   "id": "212b023a",
   "metadata": {},
   "outputs": [
    {
     "data": {
      "text/plain": [
       "0.8503902644009764"
      ]
     },
     "execution_count": 56,
     "metadata": {},
     "output_type": "execute_result"
    }
   ],
   "source": [
    "r2_score(Y_train, Y_pred_train) # to measure the proportion of variance"
   ]
  },
  {
   "cell_type": "markdown",
   "id": "5aea906c-ec67-41ab-890f-62b0b272a045",
   "metadata": {},
   "source": [
    "Okay so now let's test this model with the predicted value to see its accuracy. "
   ]
  },
  {
   "cell_type": "code",
   "execution_count": 57,
   "id": "4980f036",
   "metadata": {},
   "outputs": [],
   "source": [
    "Y_pred_test = Lr.predict(X_test_scaled)"
   ]
  },
  {
   "cell_type": "code",
   "execution_count": 58,
   "id": "c6cfb169",
   "metadata": {},
   "outputs": [
    {
     "data": {
      "text/plain": [
       "5012.918729788129"
      ]
     },
     "execution_count": 58,
     "metadata": {},
     "output_type": "execute_result"
    }
   ],
   "source": [
    "mean_squared_error(Y_test, Y_pred_test)"
   ]
  },
  {
   "cell_type": "code",
   "execution_count": 59,
   "id": "48ad1ef6",
   "metadata": {},
   "outputs": [
    {
     "data": {
      "text/plain": [
       "57.675686158903886"
      ]
     },
     "execution_count": 59,
     "metadata": {},
     "output_type": "execute_result"
    }
   ],
   "source": [
    "mean_absolute_error(Y_test, Y_pred_test)"
   ]
  },
  {
   "cell_type": "code",
   "execution_count": 60,
   "id": "ab038717",
   "metadata": {},
   "outputs": [
    {
     "data": {
      "text/plain": [
       "0.8339702695019142"
      ]
     },
     "execution_count": 60,
     "metadata": {},
     "output_type": "execute_result"
    }
   ],
   "source": [
    "r2_score(Y_test, Y_pred_test)"
   ]
  },
  {
   "cell_type": "code",
   "execution_count": 61,
   "id": "779ca631",
   "metadata": {},
   "outputs": [
    {
     "data": {
      "text/plain": [
       "((99, 6), (99, 1))"
      ]
     },
     "execution_count": 61,
     "metadata": {},
     "output_type": "execute_result"
    }
   ],
   "source": [
    "#plt.scatter(X_train, Y_train)\n",
    "X_train.shape, Y_train.shape"
   ]
  },
  {
   "cell_type": "markdown",
   "id": "df8b3d5e",
   "metadata": {},
   "source": [
    "## Using Lasso and Ridge regression to check for possibilities of handling multicollinearity and also feature selection which is part of the regularization process. \n",
    "\n",
    "This is to see if it contributes to the improvement of the prediction accuracy which eventually can lead to overall reduction in the mean squared error "
   ]
  },
  {
   "cell_type": "code",
   "execution_count": 62,
   "id": "019d06a0",
   "metadata": {},
   "outputs": [
    {
     "name": "stdout",
     "output_type": "stream",
     "text": [
      "Ridge Regression:\n",
      "Training R^2 score: 0.8503890248962258\n",
      "Testing R^2 score: 0.8338209847234012\n",
      "\n",
      "Lasso Regression:\n",
      "Training R^2 score: 0.8503878819573121\n",
      "Testing R^2 score: 0.8339182373756122\n"
     ]
    }
   ],
   "source": [
    "# Ridge Regression\n",
    "alpha_ridge = 0.1  # Regularization parameter for Ridge regression\n",
    "ridge_model = Ridge(alpha=alpha_ridge)\n",
    "ridge_model.fit(X_train_scaled, Y_train)\n",
    "\n",
    "# Lasso Regression\n",
    "alpha_lasso = 0.1  # Regularization parameter for Lasso regression\n",
    "lasso_model = Lasso(alpha=alpha_lasso)\n",
    "lasso_model.fit(X_train_scaled, Y_train)\n",
    "\n",
    "# After fitting the models, you can evaluate their performance\n",
    "ridge_train_score = ridge_model.score(X_train_scaled, Y_train)\n",
    "ridge_test_score = ridge_model.score(X_test_scaled, Y_test)\n",
    "\n",
    "lasso_train_score = lasso_model.score(X_train_scaled, Y_train)\n",
    "lasso_test_score = lasso_model.score(X_test_scaled, Y_test)\n",
    "\n",
    "print(\"Ridge Regression:\")\n",
    "print(\"Training R^2 score:\", ridge_train_score)\n",
    "print(\"Testing R^2 score:\", ridge_test_score)\n",
    "\n",
    "print(\"\\nLasso Regression:\")\n",
    "print(\"Training R^2 score:\", lasso_train_score)\n",
    "print(\"Testing R^2 score:\", lasso_test_score)\n"
   ]
  },
  {
   "cell_type": "markdown",
   "id": "d406eca4",
   "metadata": {},
   "source": [
    "# No improvement..... Let's check for errors if they would be any changes"
   ]
  },
  {
   "cell_type": "code",
   "execution_count": 63,
   "id": "70936860",
   "metadata": {},
   "outputs": [
    {
     "data": {
      "text/plain": [
       "5014.489730474017"
      ]
     },
     "execution_count": 63,
     "metadata": {},
     "output_type": "execute_result"
    }
   ],
   "source": [
    "Y_pred_test = lasso_model.predict(X_test_scaled)\n",
    "mean_squared_error(Y_test, Y_pred_test) # MSE for Lasso regression "
   ]
  },
  {
   "cell_type": "code",
   "execution_count": 64,
   "id": "7bfe63f0",
   "metadata": {},
   "outputs": [
    {
     "data": {
      "text/plain": [
       "4885.029823950244"
      ]
     },
     "execution_count": 64,
     "metadata": {},
     "output_type": "execute_result"
    }
   ],
   "source": [
    "Y_pred_test = ridge_model.predict(X_test_scaled)\n",
    "mean_squared_error(Y_train, Y_pred_train) # MSE for Ridge regression "
   ]
  },
  {
   "cell_type": "markdown",
   "id": "fa0e38ad",
   "metadata": {},
   "source": [
    "## Implementing Elastic Net regression to see if we can get an improved accuracy and reduction which overall handles for multicollinearity and the feature selection simultaneously"
   ]
  },
  {
   "cell_type": "code",
   "execution_count": 65,
   "id": "6069d851",
   "metadata": {},
   "outputs": [
    {
     "name": "stdout",
     "output_type": "stream",
     "text": [
      "R-squared score with Elastic Net: 0.8339900706809275\n",
      "Mean Absolute Error with Elastic Net: 57.66173502306198\n"
     ]
    }
   ],
   "source": [
    "# Fit Elastic Net regression model\n",
    "elastic_net_model = ElasticNet(alpha=0.1, l1_ratio=0.5)  # Set the alpha and l1_ratio parameters as needed\n",
    "elastic_net_model.fit(X_train, Y_train)\n",
    "\n",
    "# Predict on the testing set\n",
    "elastic_net_pred = elastic_net_model.predict(X_test)\n",
    "\n",
    "# After fitting the models, you can evaluate their performance\n",
    "elastic_net_r2 = r2_score(Y_test, elastic_net_pred)\n",
    "\n",
    "print(\"R-squared score with Elastic Net:\", elastic_net_r2)\n",
    "\n",
    "\n",
    "\n",
    "# Calculate Mean Absolute Error\n",
    "elastic_net_mae = mean_absolute_error(Y_test, elastic_net_pred)\n",
    "\n",
    "print(\"Mean Absolute Error with Elastic Net:\", elastic_net_mae)"
   ]
  },
  {
   "cell_type": "code",
   "execution_count": 66,
   "id": "0bda3488",
   "metadata": {},
   "outputs": [
    {
     "name": "stderr",
     "output_type": "stream",
     "text": [
      "C:\\Users\\Mubaraq\\anaconda3\\Lib\\site-packages\\sklearn\\base.py:439: UserWarning: X does not have valid feature names, but ElasticNet was fitted with feature names\n",
      "  warnings.warn(\n"
     ]
    },
    {
     "data": {
      "text/plain": [
       "4885.029823950244"
      ]
     },
     "execution_count": 66,
     "metadata": {},
     "output_type": "execute_result"
    }
   ],
   "source": [
    "Y_pred_test = elastic_net_model.predict(X_test_scaled)\n",
    "mean_squared_error(Y_train, Y_pred_train) # MSE for Elastic Net regression "
   ]
  },
  {
   "cell_type": "markdown",
   "id": "3fef3402-005b-4f99-bd7c-c22d564a16f3",
   "metadata": {},
   "source": [
    "Still no improvements... in both the Accuracy and the Error. \n",
    "This is due to linear regression inability to capture the complex relationships between variables"
   ]
  },
  {
   "cell_type": "code",
   "execution_count": 67,
   "id": "3a0c764d",
   "metadata": {},
   "outputs": [],
   "source": [
    "# employ random forest regressor classifer to see there's improvement."
   ]
  },
  {
   "cell_type": "markdown",
   "id": "51331f00-c462-4bc7-9416-394abe958daa",
   "metadata": {},
   "source": [
    "# Saving the model using the Joblib library for deployment to get a better user-centric experience and interface"
   ]
  },
  {
   "cell_type": "code",
   "execution_count": 68,
   "id": "85599fb6-0729-46e8-8541-f4421726f0bc",
   "metadata": {},
   "outputs": [
    {
     "data": {
      "text/plain": [
       "['boeing_linear_regression_model.joblib']"
      ]
     },
     "execution_count": 68,
     "metadata": {},
     "output_type": "execute_result"
    }
   ],
   "source": [
    "# saving the model using Joblib\n",
    "joblib.dump(Lr,'boeing_linear_regression_model.joblib')"
   ]
  },
  {
   "cell_type": "code",
   "execution_count": 69,
   "id": "0d7d06ae-cd48-4af8-8da2-412e9e01b337",
   "metadata": {},
   "outputs": [
    {
     "data": {
      "text/plain": [
       "['scaler.joblib']"
      ]
     },
     "execution_count": 69,
     "metadata": {},
     "output_type": "execute_result"
    }
   ],
   "source": [
    "# saving the scaler using Joblib\n",
    "joblib.dump(scaler,'scaler.joblib') "
   ]
  },
  {
   "cell_type": "code",
   "execution_count": 70,
   "id": "3f5acf73-3a08-47ed-b516-7e99454afc1b",
   "metadata": {},
   "outputs": [],
   "source": [
    "# to load the model/scaler, especially on an interface we use >>>>> model=joblib.load('boeing_linear_regression_model.joblib')"
   ]
  }
 ],
 "metadata": {
  "kernelspec": {
   "display_name": "Python 3 (ipykernel)",
   "language": "python",
   "name": "python3"
  },
  "language_info": {
   "codemirror_mode": {
    "name": "ipython",
    "version": 3
   },
   "file_extension": ".py",
   "mimetype": "text/x-python",
   "name": "python",
   "nbconvert_exporter": "python",
   "pygments_lexer": "ipython3",
   "version": "3.11.7"
  }
 },
 "nbformat": 4,
 "nbformat_minor": 5
}
